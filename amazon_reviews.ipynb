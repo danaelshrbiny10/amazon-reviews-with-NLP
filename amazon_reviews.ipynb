{
  "nbformat": 4,
  "nbformat_minor": 0,
  "metadata": {
    "colab": {
      "name": "amazon_reviews.ipynb",
      "provenance": [],
      "collapsed_sections": []
    },
    "kernelspec": {
      "name": "python3",
      "display_name": "Python 3"
    },
    "language_info": {
      "name": "python"
    }
  },
  "cells": [
    {
      "cell_type": "markdown",
      "source": [
        "# Download NLTK (the packeage for NLP)"
      ],
      "metadata": {
        "id": "71XQYogjRrMw"
      }
    },
    {
      "cell_type": "code",
      "source": [
        "import nltk\n",
        "nltk.download('all')"
      ],
      "metadata": {
        "colab": {
          "base_uri": "https://localhost:8080/"
        },
        "id": "20cTpZePRqzf",
        "outputId": "54d2c037-6cca-4a1e-abc0-35abd19590bd"
      },
      "execution_count": 7,
      "outputs": [
        {
          "output_type": "stream",
          "name": "stdout",
          "text": [
            "[nltk_data] Downloading collection 'all'\n",
            "[nltk_data]    | \n",
            "[nltk_data]    | Downloading package abc to /root/nltk_data...\n",
            "[nltk_data]    |   Unzipping corpora/abc.zip.\n",
            "[nltk_data]    | Downloading package alpino to /root/nltk_data...\n",
            "[nltk_data]    |   Unzipping corpora/alpino.zip.\n",
            "[nltk_data]    | Downloading package averaged_perceptron_tagger to\n",
            "[nltk_data]    |     /root/nltk_data...\n",
            "[nltk_data]    |   Unzipping taggers/averaged_perceptron_tagger.zip.\n",
            "[nltk_data]    | Downloading package averaged_perceptron_tagger_ru to\n",
            "[nltk_data]    |     /root/nltk_data...\n",
            "[nltk_data]    |   Unzipping\n",
            "[nltk_data]    |       taggers/averaged_perceptron_tagger_ru.zip.\n",
            "[nltk_data]    | Downloading package basque_grammars to\n",
            "[nltk_data]    |     /root/nltk_data...\n",
            "[nltk_data]    |   Unzipping grammars/basque_grammars.zip.\n",
            "[nltk_data]    | Downloading package biocreative_ppi to\n",
            "[nltk_data]    |     /root/nltk_data...\n",
            "[nltk_data]    |   Unzipping corpora/biocreative_ppi.zip.\n",
            "[nltk_data]    | Downloading package bllip_wsj_no_aux to\n",
            "[nltk_data]    |     /root/nltk_data...\n",
            "[nltk_data]    |   Unzipping models/bllip_wsj_no_aux.zip.\n",
            "[nltk_data]    | Downloading package book_grammars to\n",
            "[nltk_data]    |     /root/nltk_data...\n",
            "[nltk_data]    |   Unzipping grammars/book_grammars.zip.\n",
            "[nltk_data]    | Downloading package brown to /root/nltk_data...\n",
            "[nltk_data]    |   Unzipping corpora/brown.zip.\n",
            "[nltk_data]    | Downloading package brown_tei to /root/nltk_data...\n",
            "[nltk_data]    |   Unzipping corpora/brown_tei.zip.\n",
            "[nltk_data]    | Downloading package cess_cat to /root/nltk_data...\n",
            "[nltk_data]    |   Unzipping corpora/cess_cat.zip.\n",
            "[nltk_data]    | Downloading package cess_esp to /root/nltk_data...\n",
            "[nltk_data]    |   Unzipping corpora/cess_esp.zip.\n",
            "[nltk_data]    | Downloading package chat80 to /root/nltk_data...\n",
            "[nltk_data]    |   Unzipping corpora/chat80.zip.\n",
            "[nltk_data]    | Downloading package city_database to\n",
            "[nltk_data]    |     /root/nltk_data...\n",
            "[nltk_data]    |   Unzipping corpora/city_database.zip.\n",
            "[nltk_data]    | Downloading package cmudict to /root/nltk_data...\n",
            "[nltk_data]    |   Unzipping corpora/cmudict.zip.\n",
            "[nltk_data]    | Downloading package comparative_sentences to\n",
            "[nltk_data]    |     /root/nltk_data...\n",
            "[nltk_data]    |   Unzipping corpora/comparative_sentences.zip.\n",
            "[nltk_data]    | Downloading package comtrans to /root/nltk_data...\n",
            "[nltk_data]    | Downloading package conll2000 to /root/nltk_data...\n",
            "[nltk_data]    |   Unzipping corpora/conll2000.zip.\n",
            "[nltk_data]    | Downloading package conll2002 to /root/nltk_data...\n",
            "[nltk_data]    |   Unzipping corpora/conll2002.zip.\n",
            "[nltk_data]    | Downloading package conll2007 to /root/nltk_data...\n",
            "[nltk_data]    | Downloading package crubadan to /root/nltk_data...\n",
            "[nltk_data]    |   Unzipping corpora/crubadan.zip.\n",
            "[nltk_data]    | Downloading package dependency_treebank to\n",
            "[nltk_data]    |     /root/nltk_data...\n",
            "[nltk_data]    |   Unzipping corpora/dependency_treebank.zip.\n",
            "[nltk_data]    | Downloading package dolch to /root/nltk_data...\n",
            "[nltk_data]    |   Unzipping corpora/dolch.zip.\n",
            "[nltk_data]    | Downloading package europarl_raw to\n",
            "[nltk_data]    |     /root/nltk_data...\n",
            "[nltk_data]    |   Unzipping corpora/europarl_raw.zip.\n",
            "[nltk_data]    | Downloading package extended_omw to\n",
            "[nltk_data]    |     /root/nltk_data...\n",
            "[nltk_data]    |   Unzipping corpora/extended_omw.zip.\n",
            "[nltk_data]    | Downloading package floresta to /root/nltk_data...\n",
            "[nltk_data]    |   Unzipping corpora/floresta.zip.\n",
            "[nltk_data]    | Downloading package framenet_v15 to\n",
            "[nltk_data]    |     /root/nltk_data...\n",
            "[nltk_data]    |   Unzipping corpora/framenet_v15.zip.\n",
            "[nltk_data]    | Downloading package framenet_v17 to\n",
            "[nltk_data]    |     /root/nltk_data...\n",
            "[nltk_data]    |   Unzipping corpora/framenet_v17.zip.\n",
            "[nltk_data]    | Downloading package gazetteers to /root/nltk_data...\n",
            "[nltk_data]    |   Unzipping corpora/gazetteers.zip.\n",
            "[nltk_data]    | Downloading package genesis to /root/nltk_data...\n",
            "[nltk_data]    |   Unzipping corpora/genesis.zip.\n",
            "[nltk_data]    | Downloading package gutenberg to /root/nltk_data...\n",
            "[nltk_data]    |   Unzipping corpora/gutenberg.zip.\n",
            "[nltk_data]    | Downloading package ieer to /root/nltk_data...\n",
            "[nltk_data]    |   Unzipping corpora/ieer.zip.\n",
            "[nltk_data]    | Downloading package inaugural to /root/nltk_data...\n",
            "[nltk_data]    |   Unzipping corpora/inaugural.zip.\n",
            "[nltk_data]    | Downloading package indian to /root/nltk_data...\n",
            "[nltk_data]    |   Unzipping corpora/indian.zip.\n",
            "[nltk_data]    | Downloading package jeita to /root/nltk_data...\n",
            "[nltk_data]    | Downloading package kimmo to /root/nltk_data...\n",
            "[nltk_data]    |   Unzipping corpora/kimmo.zip.\n",
            "[nltk_data]    | Downloading package knbc to /root/nltk_data...\n",
            "[nltk_data]    | Downloading package large_grammars to\n",
            "[nltk_data]    |     /root/nltk_data...\n",
            "[nltk_data]    |   Unzipping grammars/large_grammars.zip.\n",
            "[nltk_data]    | Downloading package lin_thesaurus to\n",
            "[nltk_data]    |     /root/nltk_data...\n",
            "[nltk_data]    |   Unzipping corpora/lin_thesaurus.zip.\n",
            "[nltk_data]    | Downloading package mac_morpho to /root/nltk_data...\n",
            "[nltk_data]    |   Unzipping corpora/mac_morpho.zip.\n",
            "[nltk_data]    | Downloading package machado to /root/nltk_data...\n",
            "[nltk_data]    | Downloading package masc_tagged to /root/nltk_data...\n",
            "[nltk_data]    | Downloading package maxent_ne_chunker to\n",
            "[nltk_data]    |     /root/nltk_data...\n",
            "[nltk_data]    |   Unzipping chunkers/maxent_ne_chunker.zip.\n",
            "[nltk_data]    | Downloading package maxent_treebank_pos_tagger to\n",
            "[nltk_data]    |     /root/nltk_data...\n",
            "[nltk_data]    |   Unzipping taggers/maxent_treebank_pos_tagger.zip.\n",
            "[nltk_data]    | Downloading package moses_sample to\n",
            "[nltk_data]    |     /root/nltk_data...\n",
            "[nltk_data]    |   Unzipping models/moses_sample.zip.\n",
            "[nltk_data]    | Downloading package movie_reviews to\n",
            "[nltk_data]    |     /root/nltk_data...\n",
            "[nltk_data]    |   Unzipping corpora/movie_reviews.zip.\n",
            "[nltk_data]    | Downloading package mte_teip5 to /root/nltk_data...\n",
            "[nltk_data]    |   Unzipping corpora/mte_teip5.zip.\n",
            "[nltk_data]    | Downloading package mwa_ppdb to /root/nltk_data...\n",
            "[nltk_data]    |   Unzipping misc/mwa_ppdb.zip.\n",
            "[nltk_data]    | Downloading package names to /root/nltk_data...\n",
            "[nltk_data]    |   Unzipping corpora/names.zip.\n",
            "[nltk_data]    | Downloading package nombank.1.0 to /root/nltk_data...\n",
            "[nltk_data]    | Downloading package nonbreaking_prefixes to\n",
            "[nltk_data]    |     /root/nltk_data...\n",
            "[nltk_data]    |   Unzipping corpora/nonbreaking_prefixes.zip.\n",
            "[nltk_data]    | Downloading package nps_chat to /root/nltk_data...\n",
            "[nltk_data]    |   Unzipping corpora/nps_chat.zip.\n",
            "[nltk_data]    | Downloading package omw to /root/nltk_data...\n",
            "[nltk_data]    |   Unzipping corpora/omw.zip.\n",
            "[nltk_data]    | Downloading package omw-1.4 to /root/nltk_data...\n",
            "[nltk_data]    |   Unzipping corpora/omw-1.4.zip.\n",
            "[nltk_data]    | Downloading package opinion_lexicon to\n",
            "[nltk_data]    |     /root/nltk_data...\n",
            "[nltk_data]    |   Unzipping corpora/opinion_lexicon.zip.\n",
            "[nltk_data]    | Downloading package panlex_swadesh to\n",
            "[nltk_data]    |     /root/nltk_data...\n",
            "[nltk_data]    | Downloading package paradigms to /root/nltk_data...\n",
            "[nltk_data]    |   Unzipping corpora/paradigms.zip.\n",
            "[nltk_data]    | Downloading package pe08 to /root/nltk_data...\n",
            "[nltk_data]    |   Unzipping corpora/pe08.zip.\n",
            "[nltk_data]    | Downloading package perluniprops to\n",
            "[nltk_data]    |     /root/nltk_data...\n",
            "[nltk_data]    |   Unzipping misc/perluniprops.zip.\n",
            "[nltk_data]    | Downloading package pil to /root/nltk_data...\n",
            "[nltk_data]    |   Unzipping corpora/pil.zip.\n",
            "[nltk_data]    | Downloading package pl196x to /root/nltk_data...\n",
            "[nltk_data]    |   Unzipping corpora/pl196x.zip.\n",
            "[nltk_data]    | Downloading package porter_test to /root/nltk_data...\n",
            "[nltk_data]    |   Unzipping stemmers/porter_test.zip.\n",
            "[nltk_data]    | Downloading package ppattach to /root/nltk_data...\n",
            "[nltk_data]    |   Unzipping corpora/ppattach.zip.\n",
            "[nltk_data]    | Downloading package problem_reports to\n",
            "[nltk_data]    |     /root/nltk_data...\n",
            "[nltk_data]    |   Unzipping corpora/problem_reports.zip.\n",
            "[nltk_data]    | Downloading package product_reviews_1 to\n",
            "[nltk_data]    |     /root/nltk_data...\n",
            "[nltk_data]    |   Unzipping corpora/product_reviews_1.zip.\n",
            "[nltk_data]    | Downloading package product_reviews_2 to\n",
            "[nltk_data]    |     /root/nltk_data...\n",
            "[nltk_data]    |   Unzipping corpora/product_reviews_2.zip.\n",
            "[nltk_data]    | Downloading package propbank to /root/nltk_data...\n",
            "[nltk_data]    | Downloading package pros_cons to /root/nltk_data...\n",
            "[nltk_data]    |   Unzipping corpora/pros_cons.zip.\n",
            "[nltk_data]    | Downloading package ptb to /root/nltk_data...\n",
            "[nltk_data]    |   Unzipping corpora/ptb.zip.\n",
            "[nltk_data]    | Downloading package punkt to /root/nltk_data...\n",
            "[nltk_data]    |   Unzipping tokenizers/punkt.zip.\n",
            "[nltk_data]    | Downloading package qc to /root/nltk_data...\n",
            "[nltk_data]    |   Unzipping corpora/qc.zip.\n",
            "[nltk_data]    | Downloading package reuters to /root/nltk_data...\n",
            "[nltk_data]    | Downloading package rslp to /root/nltk_data...\n",
            "[nltk_data]    |   Unzipping stemmers/rslp.zip.\n",
            "[nltk_data]    | Downloading package rte to /root/nltk_data...\n",
            "[nltk_data]    |   Unzipping corpora/rte.zip.\n",
            "[nltk_data]    | Downloading package sample_grammars to\n",
            "[nltk_data]    |     /root/nltk_data...\n",
            "[nltk_data]    |   Unzipping grammars/sample_grammars.zip.\n",
            "[nltk_data]    | Downloading package semcor to /root/nltk_data...\n",
            "[nltk_data]    | Downloading package senseval to /root/nltk_data...\n",
            "[nltk_data]    |   Unzipping corpora/senseval.zip.\n",
            "[nltk_data]    | Downloading package sentence_polarity to\n",
            "[nltk_data]    |     /root/nltk_data...\n",
            "[nltk_data]    |   Unzipping corpora/sentence_polarity.zip.\n",
            "[nltk_data]    | Downloading package sentiwordnet to\n",
            "[nltk_data]    |     /root/nltk_data...\n",
            "[nltk_data]    |   Unzipping corpora/sentiwordnet.zip.\n",
            "[nltk_data]    | Downloading package shakespeare to /root/nltk_data...\n",
            "[nltk_data]    |   Unzipping corpora/shakespeare.zip.\n",
            "[nltk_data]    | Downloading package sinica_treebank to\n",
            "[nltk_data]    |     /root/nltk_data...\n",
            "[nltk_data]    |   Unzipping corpora/sinica_treebank.zip.\n",
            "[nltk_data]    | Downloading package smultron to /root/nltk_data...\n",
            "[nltk_data]    |   Unzipping corpora/smultron.zip.\n",
            "[nltk_data]    | Downloading package snowball_data to\n",
            "[nltk_data]    |     /root/nltk_data...\n",
            "[nltk_data]    | Downloading package spanish_grammars to\n",
            "[nltk_data]    |     /root/nltk_data...\n",
            "[nltk_data]    |   Unzipping grammars/spanish_grammars.zip.\n",
            "[nltk_data]    | Downloading package state_union to /root/nltk_data...\n",
            "[nltk_data]    |   Unzipping corpora/state_union.zip.\n",
            "[nltk_data]    | Downloading package stopwords to /root/nltk_data...\n",
            "[nltk_data]    |   Unzipping corpora/stopwords.zip.\n",
            "[nltk_data]    | Downloading package subjectivity to\n",
            "[nltk_data]    |     /root/nltk_data...\n",
            "[nltk_data]    |   Unzipping corpora/subjectivity.zip.\n",
            "[nltk_data]    | Downloading package swadesh to /root/nltk_data...\n",
            "[nltk_data]    |   Unzipping corpora/swadesh.zip.\n",
            "[nltk_data]    | Downloading package switchboard to /root/nltk_data...\n",
            "[nltk_data]    |   Unzipping corpora/switchboard.zip.\n",
            "[nltk_data]    | Downloading package tagsets to /root/nltk_data...\n",
            "[nltk_data]    |   Unzipping help/tagsets.zip.\n",
            "[nltk_data]    | Downloading package timit to /root/nltk_data...\n",
            "[nltk_data]    |   Unzipping corpora/timit.zip.\n",
            "[nltk_data]    | Downloading package toolbox to /root/nltk_data...\n",
            "[nltk_data]    |   Unzipping corpora/toolbox.zip.\n",
            "[nltk_data]    | Downloading package treebank to /root/nltk_data...\n",
            "[nltk_data]    |   Unzipping corpora/treebank.zip.\n",
            "[nltk_data]    | Downloading package twitter_samples to\n",
            "[nltk_data]    |     /root/nltk_data...\n",
            "[nltk_data]    |   Unzipping corpora/twitter_samples.zip.\n",
            "[nltk_data]    | Downloading package udhr to /root/nltk_data...\n",
            "[nltk_data]    |   Unzipping corpora/udhr.zip.\n",
            "[nltk_data]    | Downloading package udhr2 to /root/nltk_data...\n",
            "[nltk_data]    |   Unzipping corpora/udhr2.zip.\n",
            "[nltk_data]    | Downloading package unicode_samples to\n",
            "[nltk_data]    |     /root/nltk_data...\n",
            "[nltk_data]    |   Unzipping corpora/unicode_samples.zip.\n",
            "[nltk_data]    | Downloading package universal_tagset to\n",
            "[nltk_data]    |     /root/nltk_data...\n",
            "[nltk_data]    |   Unzipping taggers/universal_tagset.zip.\n",
            "[nltk_data]    | Downloading package universal_treebanks_v20 to\n",
            "[nltk_data]    |     /root/nltk_data...\n",
            "[nltk_data]    | Downloading package vader_lexicon to\n",
            "[nltk_data]    |     /root/nltk_data...\n",
            "[nltk_data]    | Downloading package verbnet to /root/nltk_data...\n",
            "[nltk_data]    |   Unzipping corpora/verbnet.zip.\n",
            "[nltk_data]    | Downloading package verbnet3 to /root/nltk_data...\n",
            "[nltk_data]    |   Unzipping corpora/verbnet3.zip.\n",
            "[nltk_data]    | Downloading package webtext to /root/nltk_data...\n",
            "[nltk_data]    |   Unzipping corpora/webtext.zip.\n",
            "[nltk_data]    | Downloading package wmt15_eval to /root/nltk_data...\n",
            "[nltk_data]    |   Unzipping models/wmt15_eval.zip.\n",
            "[nltk_data]    | Downloading package word2vec_sample to\n",
            "[nltk_data]    |     /root/nltk_data...\n",
            "[nltk_data]    |   Unzipping models/word2vec_sample.zip.\n",
            "[nltk_data]    | Downloading package wordnet to /root/nltk_data...\n",
            "[nltk_data]    |   Unzipping corpora/wordnet.zip.\n",
            "[nltk_data]    | Downloading package wordnet2021 to /root/nltk_data...\n",
            "[nltk_data]    |   Unzipping corpora/wordnet2021.zip.\n",
            "[nltk_data]    | Downloading package wordnet31 to /root/nltk_data...\n",
            "[nltk_data]    |   Unzipping corpora/wordnet31.zip.\n",
            "[nltk_data]    | Downloading package wordnet_ic to /root/nltk_data...\n",
            "[nltk_data]    |   Unzipping corpora/wordnet_ic.zip.\n",
            "[nltk_data]    | Downloading package words to /root/nltk_data...\n",
            "[nltk_data]    |   Unzipping corpora/words.zip.\n",
            "[nltk_data]    | Downloading package ycoe to /root/nltk_data...\n",
            "[nltk_data]    |   Unzipping corpora/ycoe.zip.\n",
            "[nltk_data]    | \n",
            "[nltk_data]  Done downloading collection all\n"
          ]
        },
        {
          "output_type": "execute_result",
          "data": {
            "text/plain": [
              "True"
            ]
          },
          "metadata": {},
          "execution_count": 7
        }
      ]
    },
    {
      "cell_type": "markdown",
      "source": [
        "# working on project"
      ],
      "metadata": {
        "id": "JDBTkueJSi3f"
      }
    },
    {
      "cell_type": "code",
      "source": [
        "import re\n",
        "from nltk.corpus import stopwords\n",
        "from nltk.tokenize import word_tokenize\n",
        "from nltk.stem import PorterStemmer\n",
        "import pandas as pd"
      ],
      "metadata": {
        "id": "uI61rTGHSN4T"
      },
      "execution_count": 25,
      "outputs": []
    },
    {
      "cell_type": "code",
      "source": [
        "data = pd.read_csv('/content/amazon_reviews.csv')\n",
        "data.head()"
      ],
      "metadata": {
        "colab": {
          "base_uri": "https://localhost:8080/",
          "height": 907
        },
        "id": "fQdVl-frSuf9",
        "outputId": "ef71c47f-6693-4c14-be6f-b68142359ba1"
      },
      "execution_count": 11,
      "outputs": [
        {
          "output_type": "execute_result",
          "data": {
            "text/plain": [
              "                     id                                               name  \\\n",
              "0  AVqkIhwDv8e3D1O-lebb  All-New Fire HD 8 Tablet, 8 HD Display, Wi-Fi,...   \n",
              "1  AVqkIhwDv8e3D1O-lebb  All-New Fire HD 8 Tablet, 8 HD Display, Wi-Fi,...   \n",
              "2  AVqkIhwDv8e3D1O-lebb  All-New Fire HD 8 Tablet, 8 HD Display, Wi-Fi,...   \n",
              "3  AVqkIhwDv8e3D1O-lebb  All-New Fire HD 8 Tablet, 8 HD Display, Wi-Fi,...   \n",
              "4  AVqkIhwDv8e3D1O-lebb  All-New Fire HD 8 Tablet, 8 HD Display, Wi-Fi,...   \n",
              "\n",
              "        asins   brand                                         categories  \\\n",
              "0  B01AHB9CN2  Amazon  Electronics,iPad & Tablets,All Tablets,Fire Ta...   \n",
              "1  B01AHB9CN2  Amazon  Electronics,iPad & Tablets,All Tablets,Fire Ta...   \n",
              "2  B01AHB9CN2  Amazon  Electronics,iPad & Tablets,All Tablets,Fire Ta...   \n",
              "3  B01AHB9CN2  Amazon  Electronics,iPad & Tablets,All Tablets,Fire Ta...   \n",
              "4  B01AHB9CN2  Amazon  Electronics,iPad & Tablets,All Tablets,Fire Ta...   \n",
              "\n",
              "                                                keys manufacturer  \\\n",
              "0  841667104676,amazon/53004484,amazon/b01ahb9cn2...       Amazon   \n",
              "1  841667104676,amazon/53004484,amazon/b01ahb9cn2...       Amazon   \n",
              "2  841667104676,amazon/53004484,amazon/b01ahb9cn2...       Amazon   \n",
              "3  841667104676,amazon/53004484,amazon/b01ahb9cn2...       Amazon   \n",
              "4  841667104676,amazon/53004484,amazon/b01ahb9cn2...       Amazon   \n",
              "\n",
              "               reviews.date     reviews.dateAdded  \\\n",
              "0  2017-01-13T00:00:00.000Z  2017-07-03T23:33:15Z   \n",
              "1  2017-01-13T00:00:00.000Z  2017-07-03T23:33:15Z   \n",
              "2  2017-01-13T00:00:00.000Z  2017-07-03T23:33:15Z   \n",
              "3  2017-01-13T00:00:00.000Z  2017-07-03T23:33:15Z   \n",
              "4  2017-01-12T00:00:00.000Z  2017-07-03T23:33:15Z   \n",
              "\n",
              "                                    reviews.dateSeen  ...  \\\n",
              "0  2017-06-07T09:04:00.000Z,2017-04-30T00:45:00.000Z  ...   \n",
              "1  2017-06-07T09:04:00.000Z,2017-04-30T00:45:00.000Z  ...   \n",
              "2  2017-06-07T09:04:00.000Z,2017-04-30T00:45:00.000Z  ...   \n",
              "3  2017-06-07T09:04:00.000Z,2017-04-30T00:45:00.000Z  ...   \n",
              "4  2017-06-07T09:04:00.000Z,2017-04-30T00:45:00.000Z  ...   \n",
              "\n",
              "   reviews.doRecommend  reviews.id  reviews.numHelpful  reviews.rating  \\\n",
              "0                 True         NaN                   0               5   \n",
              "1                 True         NaN                   0               5   \n",
              "2                 True         NaN                   0               5   \n",
              "3                 True         NaN                   0               4   \n",
              "4                 True         NaN                   0               5   \n",
              "\n",
              "                                  reviews.sourceURLs  \\\n",
              "0  http://reviews.bestbuy.com/3545/5620406/review...   \n",
              "1  http://reviews.bestbuy.com/3545/5620406/review...   \n",
              "2  http://reviews.bestbuy.com/3545/5620406/review...   \n",
              "3  http://reviews.bestbuy.com/3545/5620406/review...   \n",
              "4  http://reviews.bestbuy.com/3545/5620406/review...   \n",
              "\n",
              "                                        reviews.text  \\\n",
              "0  This product so far has not disappointed. My c...   \n",
              "1  great for beginner or experienced person. Boug...   \n",
              "2  Inexpensive tablet for him to use and learn on...   \n",
              "3  I've had my Fire HD 8 two weeks now and I love...   \n",
              "4  I bought this for my grand daughter when she c...   \n",
              "\n",
              "                             reviews.title reviews.userCity  \\\n",
              "0                                   Kindle              NaN   \n",
              "1                                very fast              NaN   \n",
              "2  Beginner tablet for our 9 year old son.              NaN   \n",
              "3                                  Good!!!              NaN   \n",
              "4                Fantastic Tablet for kids              NaN   \n",
              "\n",
              "   reviews.userProvince  reviews.username  \n",
              "0                   NaN           Adapter  \n",
              "1                   NaN            truman  \n",
              "2                   NaN             DaveZ  \n",
              "3                   NaN            Shacks  \n",
              "4                   NaN         explore42  \n",
              "\n",
              "[5 rows x 21 columns]"
            ],
            "text/html": [
              "\n",
              "  <div id=\"df-cdf95ffe-7a96-44dc-a187-68e95b6d13c3\">\n",
              "    <div class=\"colab-df-container\">\n",
              "      <div>\n",
              "<style scoped>\n",
              "    .dataframe tbody tr th:only-of-type {\n",
              "        vertical-align: middle;\n",
              "    }\n",
              "\n",
              "    .dataframe tbody tr th {\n",
              "        vertical-align: top;\n",
              "    }\n",
              "\n",
              "    .dataframe thead th {\n",
              "        text-align: right;\n",
              "    }\n",
              "</style>\n",
              "<table border=\"1\" class=\"dataframe\">\n",
              "  <thead>\n",
              "    <tr style=\"text-align: right;\">\n",
              "      <th></th>\n",
              "      <th>id</th>\n",
              "      <th>name</th>\n",
              "      <th>asins</th>\n",
              "      <th>brand</th>\n",
              "      <th>categories</th>\n",
              "      <th>keys</th>\n",
              "      <th>manufacturer</th>\n",
              "      <th>reviews.date</th>\n",
              "      <th>reviews.dateAdded</th>\n",
              "      <th>reviews.dateSeen</th>\n",
              "      <th>...</th>\n",
              "      <th>reviews.doRecommend</th>\n",
              "      <th>reviews.id</th>\n",
              "      <th>reviews.numHelpful</th>\n",
              "      <th>reviews.rating</th>\n",
              "      <th>reviews.sourceURLs</th>\n",
              "      <th>reviews.text</th>\n",
              "      <th>reviews.title</th>\n",
              "      <th>reviews.userCity</th>\n",
              "      <th>reviews.userProvince</th>\n",
              "      <th>reviews.username</th>\n",
              "    </tr>\n",
              "  </thead>\n",
              "  <tbody>\n",
              "    <tr>\n",
              "      <th>0</th>\n",
              "      <td>AVqkIhwDv8e3D1O-lebb</td>\n",
              "      <td>All-New Fire HD 8 Tablet, 8 HD Display, Wi-Fi,...</td>\n",
              "      <td>B01AHB9CN2</td>\n",
              "      <td>Amazon</td>\n",
              "      <td>Electronics,iPad &amp; Tablets,All Tablets,Fire Ta...</td>\n",
              "      <td>841667104676,amazon/53004484,amazon/b01ahb9cn2...</td>\n",
              "      <td>Amazon</td>\n",
              "      <td>2017-01-13T00:00:00.000Z</td>\n",
              "      <td>2017-07-03T23:33:15Z</td>\n",
              "      <td>2017-06-07T09:04:00.000Z,2017-04-30T00:45:00.000Z</td>\n",
              "      <td>...</td>\n",
              "      <td>True</td>\n",
              "      <td>NaN</td>\n",
              "      <td>0</td>\n",
              "      <td>5</td>\n",
              "      <td>http://reviews.bestbuy.com/3545/5620406/review...</td>\n",
              "      <td>This product so far has not disappointed. My c...</td>\n",
              "      <td>Kindle</td>\n",
              "      <td>NaN</td>\n",
              "      <td>NaN</td>\n",
              "      <td>Adapter</td>\n",
              "    </tr>\n",
              "    <tr>\n",
              "      <th>1</th>\n",
              "      <td>AVqkIhwDv8e3D1O-lebb</td>\n",
              "      <td>All-New Fire HD 8 Tablet, 8 HD Display, Wi-Fi,...</td>\n",
              "      <td>B01AHB9CN2</td>\n",
              "      <td>Amazon</td>\n",
              "      <td>Electronics,iPad &amp; Tablets,All Tablets,Fire Ta...</td>\n",
              "      <td>841667104676,amazon/53004484,amazon/b01ahb9cn2...</td>\n",
              "      <td>Amazon</td>\n",
              "      <td>2017-01-13T00:00:00.000Z</td>\n",
              "      <td>2017-07-03T23:33:15Z</td>\n",
              "      <td>2017-06-07T09:04:00.000Z,2017-04-30T00:45:00.000Z</td>\n",
              "      <td>...</td>\n",
              "      <td>True</td>\n",
              "      <td>NaN</td>\n",
              "      <td>0</td>\n",
              "      <td>5</td>\n",
              "      <td>http://reviews.bestbuy.com/3545/5620406/review...</td>\n",
              "      <td>great for beginner or experienced person. Boug...</td>\n",
              "      <td>very fast</td>\n",
              "      <td>NaN</td>\n",
              "      <td>NaN</td>\n",
              "      <td>truman</td>\n",
              "    </tr>\n",
              "    <tr>\n",
              "      <th>2</th>\n",
              "      <td>AVqkIhwDv8e3D1O-lebb</td>\n",
              "      <td>All-New Fire HD 8 Tablet, 8 HD Display, Wi-Fi,...</td>\n",
              "      <td>B01AHB9CN2</td>\n",
              "      <td>Amazon</td>\n",
              "      <td>Electronics,iPad &amp; Tablets,All Tablets,Fire Ta...</td>\n",
              "      <td>841667104676,amazon/53004484,amazon/b01ahb9cn2...</td>\n",
              "      <td>Amazon</td>\n",
              "      <td>2017-01-13T00:00:00.000Z</td>\n",
              "      <td>2017-07-03T23:33:15Z</td>\n",
              "      <td>2017-06-07T09:04:00.000Z,2017-04-30T00:45:00.000Z</td>\n",
              "      <td>...</td>\n",
              "      <td>True</td>\n",
              "      <td>NaN</td>\n",
              "      <td>0</td>\n",
              "      <td>5</td>\n",
              "      <td>http://reviews.bestbuy.com/3545/5620406/review...</td>\n",
              "      <td>Inexpensive tablet for him to use and learn on...</td>\n",
              "      <td>Beginner tablet for our 9 year old son.</td>\n",
              "      <td>NaN</td>\n",
              "      <td>NaN</td>\n",
              "      <td>DaveZ</td>\n",
              "    </tr>\n",
              "    <tr>\n",
              "      <th>3</th>\n",
              "      <td>AVqkIhwDv8e3D1O-lebb</td>\n",
              "      <td>All-New Fire HD 8 Tablet, 8 HD Display, Wi-Fi,...</td>\n",
              "      <td>B01AHB9CN2</td>\n",
              "      <td>Amazon</td>\n",
              "      <td>Electronics,iPad &amp; Tablets,All Tablets,Fire Ta...</td>\n",
              "      <td>841667104676,amazon/53004484,amazon/b01ahb9cn2...</td>\n",
              "      <td>Amazon</td>\n",
              "      <td>2017-01-13T00:00:00.000Z</td>\n",
              "      <td>2017-07-03T23:33:15Z</td>\n",
              "      <td>2017-06-07T09:04:00.000Z,2017-04-30T00:45:00.000Z</td>\n",
              "      <td>...</td>\n",
              "      <td>True</td>\n",
              "      <td>NaN</td>\n",
              "      <td>0</td>\n",
              "      <td>4</td>\n",
              "      <td>http://reviews.bestbuy.com/3545/5620406/review...</td>\n",
              "      <td>I've had my Fire HD 8 two weeks now and I love...</td>\n",
              "      <td>Good!!!</td>\n",
              "      <td>NaN</td>\n",
              "      <td>NaN</td>\n",
              "      <td>Shacks</td>\n",
              "    </tr>\n",
              "    <tr>\n",
              "      <th>4</th>\n",
              "      <td>AVqkIhwDv8e3D1O-lebb</td>\n",
              "      <td>All-New Fire HD 8 Tablet, 8 HD Display, Wi-Fi,...</td>\n",
              "      <td>B01AHB9CN2</td>\n",
              "      <td>Amazon</td>\n",
              "      <td>Electronics,iPad &amp; Tablets,All Tablets,Fire Ta...</td>\n",
              "      <td>841667104676,amazon/53004484,amazon/b01ahb9cn2...</td>\n",
              "      <td>Amazon</td>\n",
              "      <td>2017-01-12T00:00:00.000Z</td>\n",
              "      <td>2017-07-03T23:33:15Z</td>\n",
              "      <td>2017-06-07T09:04:00.000Z,2017-04-30T00:45:00.000Z</td>\n",
              "      <td>...</td>\n",
              "      <td>True</td>\n",
              "      <td>NaN</td>\n",
              "      <td>0</td>\n",
              "      <td>5</td>\n",
              "      <td>http://reviews.bestbuy.com/3545/5620406/review...</td>\n",
              "      <td>I bought this for my grand daughter when she c...</td>\n",
              "      <td>Fantastic Tablet for kids</td>\n",
              "      <td>NaN</td>\n",
              "      <td>NaN</td>\n",
              "      <td>explore42</td>\n",
              "    </tr>\n",
              "  </tbody>\n",
              "</table>\n",
              "<p>5 rows × 21 columns</p>\n",
              "</div>\n",
              "      <button class=\"colab-df-convert\" onclick=\"convertToInteractive('df-cdf95ffe-7a96-44dc-a187-68e95b6d13c3')\"\n",
              "              title=\"Convert this dataframe to an interactive table.\"\n",
              "              style=\"display:none;\">\n",
              "        \n",
              "  <svg xmlns=\"http://www.w3.org/2000/svg\" height=\"24px\"viewBox=\"0 0 24 24\"\n",
              "       width=\"24px\">\n",
              "    <path d=\"M0 0h24v24H0V0z\" fill=\"none\"/>\n",
              "    <path d=\"M18.56 5.44l.94 2.06.94-2.06 2.06-.94-2.06-.94-.94-2.06-.94 2.06-2.06.94zm-11 1L8.5 8.5l.94-2.06 2.06-.94-2.06-.94L8.5 2.5l-.94 2.06-2.06.94zm10 10l.94 2.06.94-2.06 2.06-.94-2.06-.94-.94-2.06-.94 2.06-2.06.94z\"/><path d=\"M17.41 7.96l-1.37-1.37c-.4-.4-.92-.59-1.43-.59-.52 0-1.04.2-1.43.59L10.3 9.45l-7.72 7.72c-.78.78-.78 2.05 0 2.83L4 21.41c.39.39.9.59 1.41.59.51 0 1.02-.2 1.41-.59l7.78-7.78 2.81-2.81c.8-.78.8-2.07 0-2.86zM5.41 20L4 18.59l7.72-7.72 1.47 1.35L5.41 20z\"/>\n",
              "  </svg>\n",
              "      </button>\n",
              "      \n",
              "  <style>\n",
              "    .colab-df-container {\n",
              "      display:flex;\n",
              "      flex-wrap:wrap;\n",
              "      gap: 12px;\n",
              "    }\n",
              "\n",
              "    .colab-df-convert {\n",
              "      background-color: #E8F0FE;\n",
              "      border: none;\n",
              "      border-radius: 50%;\n",
              "      cursor: pointer;\n",
              "      display: none;\n",
              "      fill: #1967D2;\n",
              "      height: 32px;\n",
              "      padding: 0 0 0 0;\n",
              "      width: 32px;\n",
              "    }\n",
              "\n",
              "    .colab-df-convert:hover {\n",
              "      background-color: #E2EBFA;\n",
              "      box-shadow: 0px 1px 2px rgba(60, 64, 67, 0.3), 0px 1px 3px 1px rgba(60, 64, 67, 0.15);\n",
              "      fill: #174EA6;\n",
              "    }\n",
              "\n",
              "    [theme=dark] .colab-df-convert {\n",
              "      background-color: #3B4455;\n",
              "      fill: #D2E3FC;\n",
              "    }\n",
              "\n",
              "    [theme=dark] .colab-df-convert:hover {\n",
              "      background-color: #434B5C;\n",
              "      box-shadow: 0px 1px 3px 1px rgba(0, 0, 0, 0.15);\n",
              "      filter: drop-shadow(0px 1px 2px rgba(0, 0, 0, 0.3));\n",
              "      fill: #FFFFFF;\n",
              "    }\n",
              "  </style>\n",
              "\n",
              "      <script>\n",
              "        const buttonEl =\n",
              "          document.querySelector('#df-cdf95ffe-7a96-44dc-a187-68e95b6d13c3 button.colab-df-convert');\n",
              "        buttonEl.style.display =\n",
              "          google.colab.kernel.accessAllowed ? 'block' : 'none';\n",
              "\n",
              "        async function convertToInteractive(key) {\n",
              "          const element = document.querySelector('#df-cdf95ffe-7a96-44dc-a187-68e95b6d13c3');\n",
              "          const dataTable =\n",
              "            await google.colab.kernel.invokeFunction('convertToInteractive',\n",
              "                                                     [key], {});\n",
              "          if (!dataTable) return;\n",
              "\n",
              "          const docLinkHtml = 'Like what you see? Visit the ' +\n",
              "            '<a target=\"_blank\" href=https://colab.research.google.com/notebooks/data_table.ipynb>data table notebook</a>'\n",
              "            + ' to learn more about interactive tables.';\n",
              "          element.innerHTML = '';\n",
              "          dataTable['output_type'] = 'display_data';\n",
              "          await google.colab.output.renderOutput(dataTable, element);\n",
              "          const docLink = document.createElement('div');\n",
              "          docLink.innerHTML = docLinkHtml;\n",
              "          element.appendChild(docLink);\n",
              "        }\n",
              "      </script>\n",
              "    </div>\n",
              "  </div>\n",
              "  "
            ]
          },
          "metadata": {},
          "execution_count": 11
        }
      ]
    },
    {
      "cell_type": "code",
      "source": [
        "x = data.iloc[:,16:17]\n",
        "x.head()"
      ],
      "metadata": {
        "colab": {
          "base_uri": "https://localhost:8080/",
          "height": 206
        },
        "id": "2LrSIGM7TIWZ",
        "outputId": "f80a9c52-bf18-488e-d451-fe45685e8079"
      },
      "execution_count": 13,
      "outputs": [
        {
          "output_type": "execute_result",
          "data": {
            "text/plain": [
              "                                        reviews.text\n",
              "0  This product so far has not disappointed. My c...\n",
              "1  great for beginner or experienced person. Boug...\n",
              "2  Inexpensive tablet for him to use and learn on...\n",
              "3  I've had my Fire HD 8 two weeks now and I love...\n",
              "4  I bought this for my grand daughter when she c..."
            ],
            "text/html": [
              "\n",
              "  <div id=\"df-c034c242-7096-4e36-986a-9dda0ce3a7f1\">\n",
              "    <div class=\"colab-df-container\">\n",
              "      <div>\n",
              "<style scoped>\n",
              "    .dataframe tbody tr th:only-of-type {\n",
              "        vertical-align: middle;\n",
              "    }\n",
              "\n",
              "    .dataframe tbody tr th {\n",
              "        vertical-align: top;\n",
              "    }\n",
              "\n",
              "    .dataframe thead th {\n",
              "        text-align: right;\n",
              "    }\n",
              "</style>\n",
              "<table border=\"1\" class=\"dataframe\">\n",
              "  <thead>\n",
              "    <tr style=\"text-align: right;\">\n",
              "      <th></th>\n",
              "      <th>reviews.text</th>\n",
              "    </tr>\n",
              "  </thead>\n",
              "  <tbody>\n",
              "    <tr>\n",
              "      <th>0</th>\n",
              "      <td>This product so far has not disappointed. My c...</td>\n",
              "    </tr>\n",
              "    <tr>\n",
              "      <th>1</th>\n",
              "      <td>great for beginner or experienced person. Boug...</td>\n",
              "    </tr>\n",
              "    <tr>\n",
              "      <th>2</th>\n",
              "      <td>Inexpensive tablet for him to use and learn on...</td>\n",
              "    </tr>\n",
              "    <tr>\n",
              "      <th>3</th>\n",
              "      <td>I've had my Fire HD 8 two weeks now and I love...</td>\n",
              "    </tr>\n",
              "    <tr>\n",
              "      <th>4</th>\n",
              "      <td>I bought this for my grand daughter when she c...</td>\n",
              "    </tr>\n",
              "  </tbody>\n",
              "</table>\n",
              "</div>\n",
              "      <button class=\"colab-df-convert\" onclick=\"convertToInteractive('df-c034c242-7096-4e36-986a-9dda0ce3a7f1')\"\n",
              "              title=\"Convert this dataframe to an interactive table.\"\n",
              "              style=\"display:none;\">\n",
              "        \n",
              "  <svg xmlns=\"http://www.w3.org/2000/svg\" height=\"24px\"viewBox=\"0 0 24 24\"\n",
              "       width=\"24px\">\n",
              "    <path d=\"M0 0h24v24H0V0z\" fill=\"none\"/>\n",
              "    <path d=\"M18.56 5.44l.94 2.06.94-2.06 2.06-.94-2.06-.94-.94-2.06-.94 2.06-2.06.94zm-11 1L8.5 8.5l.94-2.06 2.06-.94-2.06-.94L8.5 2.5l-.94 2.06-2.06.94zm10 10l.94 2.06.94-2.06 2.06-.94-2.06-.94-.94-2.06-.94 2.06-2.06.94z\"/><path d=\"M17.41 7.96l-1.37-1.37c-.4-.4-.92-.59-1.43-.59-.52 0-1.04.2-1.43.59L10.3 9.45l-7.72 7.72c-.78.78-.78 2.05 0 2.83L4 21.41c.39.39.9.59 1.41.59.51 0 1.02-.2 1.41-.59l7.78-7.78 2.81-2.81c.8-.78.8-2.07 0-2.86zM5.41 20L4 18.59l7.72-7.72 1.47 1.35L5.41 20z\"/>\n",
              "  </svg>\n",
              "      </button>\n",
              "      \n",
              "  <style>\n",
              "    .colab-df-container {\n",
              "      display:flex;\n",
              "      flex-wrap:wrap;\n",
              "      gap: 12px;\n",
              "    }\n",
              "\n",
              "    .colab-df-convert {\n",
              "      background-color: #E8F0FE;\n",
              "      border: none;\n",
              "      border-radius: 50%;\n",
              "      cursor: pointer;\n",
              "      display: none;\n",
              "      fill: #1967D2;\n",
              "      height: 32px;\n",
              "      padding: 0 0 0 0;\n",
              "      width: 32px;\n",
              "    }\n",
              "\n",
              "    .colab-df-convert:hover {\n",
              "      background-color: #E2EBFA;\n",
              "      box-shadow: 0px 1px 2px rgba(60, 64, 67, 0.3), 0px 1px 3px 1px rgba(60, 64, 67, 0.15);\n",
              "      fill: #174EA6;\n",
              "    }\n",
              "\n",
              "    [theme=dark] .colab-df-convert {\n",
              "      background-color: #3B4455;\n",
              "      fill: #D2E3FC;\n",
              "    }\n",
              "\n",
              "    [theme=dark] .colab-df-convert:hover {\n",
              "      background-color: #434B5C;\n",
              "      box-shadow: 0px 1px 3px 1px rgba(0, 0, 0, 0.15);\n",
              "      filter: drop-shadow(0px 1px 2px rgba(0, 0, 0, 0.3));\n",
              "      fill: #FFFFFF;\n",
              "    }\n",
              "  </style>\n",
              "\n",
              "      <script>\n",
              "        const buttonEl =\n",
              "          document.querySelector('#df-c034c242-7096-4e36-986a-9dda0ce3a7f1 button.colab-df-convert');\n",
              "        buttonEl.style.display =\n",
              "          google.colab.kernel.accessAllowed ? 'block' : 'none';\n",
              "\n",
              "        async function convertToInteractive(key) {\n",
              "          const element = document.querySelector('#df-c034c242-7096-4e36-986a-9dda0ce3a7f1');\n",
              "          const dataTable =\n",
              "            await google.colab.kernel.invokeFunction('convertToInteractive',\n",
              "                                                     [key], {});\n",
              "          if (!dataTable) return;\n",
              "\n",
              "          const docLinkHtml = 'Like what you see? Visit the ' +\n",
              "            '<a target=\"_blank\" href=https://colab.research.google.com/notebooks/data_table.ipynb>data table notebook</a>'\n",
              "            + ' to learn more about interactive tables.';\n",
              "          element.innerHTML = '';\n",
              "          dataTable['output_type'] = 'display_data';\n",
              "          await google.colab.output.renderOutput(dataTable, element);\n",
              "          const docLink = document.createElement('div');\n",
              "          docLink.innerHTML = docLinkHtml;\n",
              "          element.appendChild(docLink);\n",
              "        }\n",
              "      </script>\n",
              "    </div>\n",
              "  </div>\n",
              "  "
            ]
          },
          "metadata": {},
          "execution_count": 13
        }
      ]
    },
    {
      "cell_type": "code",
      "source": [
        "filters = set(stopwords.words('english'))\n",
        "ps = PorterStemmer()"
      ],
      "metadata": {
        "id": "ll3pMzNhfTWr"
      },
      "execution_count": 23,
      "outputs": []
    },
    {
      "cell_type": "code",
      "source": [
        "print(len(data))"
      ],
      "metadata": {
        "colab": {
          "base_uri": "https://localhost:8080/"
        },
        "id": "8CPv_r14fXLL",
        "outputId": "dcbf7389-121d-43d6-d838-024e5ed37320"
      },
      "execution_count": 21,
      "outputs": [
        {
          "output_type": "stream",
          "name": "stdout",
          "text": [
            "1157\n"
          ]
        }
      ]
    },
    {
      "cell_type": "code",
      "source": [
        "reviews = []\n",
        "for i in range (len(data)):\n",
        "  cleaned = re.sub('^[a-zA-Z]','',data['reviews.text'][i])\n",
        "  cleaned = cleaned.lower()\n",
        "  cleaned = word_tokenize(cleaned)\n",
        "  cleaned = [ps.stem(word) for word in cleaned if word not in filters]\n",
        "  cleaned = \" \".join(cleaned)\n",
        "  reviews.append(cleaned)\n",
        "print(reviews)"
      ],
      "metadata": {
        "colab": {
          "base_uri": "https://localhost:8080/"
        },
        "id": "Aplk4puvfmlX",
        "outputId": "08995e93-3cd6-4781-9c6a-0401d6694c3a"
      },
      "execution_count": 27,
      "outputs": [
        {
          "output_type": "stream",
          "name": "stdout",
          "text": [
            "['product far disappoint . children love use like abil monitor control content see eas .', 'reat beginn experienc person . bought gift love', 'nexpens tablet use learn , step nabi . thrill , learn skype alreadi ...', \"'ve fire hd 8 two week love . tablet great value.w prime member tablet shine . love abl easili access prime content well movi download watch laterthi 1280/800 screen realli nice look nice crisp bright infact brighter ipad pro cost $ 900 base model . build fire insan awesom run 7.7mm thick smooth glossi feel back realli amaz hold like futurist tab ur hand .\", 'bought grand daughter come visit . set user , enter age name amazon make sure access site content appropri age . simpl love capabl . also bought instal 64gig sd card give littl tablet plenti storag . price think tablet best one . spend hundr dollar addit speed capac come basic tablet everyth peopl ever need fraction cost .', 'amazon fire 8 inch tablet perfect size . purchas husband bigger screen phone . gotten one year ago knew would good purchas .', 'reat e-read go , nice light weight , price point given , definit worth purchas .', 'gave christma gift inlaw , husband uncl . love easi use fantast featur !', 'reat devic read book . like link borrow librari e-book . switch anoth popular tablet brand happi choic made . took time get book previou non-kindl reader , final figur way !', 'love order book read reader .', 'ot easi elderli user ceas ad pop .', 'xcellent product . easi use , larg screen make watch movi read easier .', 'ant father first tablet good valu . watch movi play game . easi enough use .', 'impli everyth need . thank youand silk work wonder', 'ot present love size screen', 'kindl easiest use , graphic screen crisp , clear , brilliant color .', 'ice reader . almost perfect want/ne . good bargain', 'realli like tablet . would given 5 star sometim push start sever time unlock screen littl annoy .', 'reat video qualiti lot fun app fun whole famili', 'ove love love kindl fire 8 ... ..thi 9 yr old granddaught said bought christmas..w purchas kindl past one best ... .love fact use memori card ... help much use book ... game ... music viedo ... thank', 'xcellent tablet nice screen . wish amazon would pre instal play store , would perfect .', 'reload read app kindl expand app . perfect travel . carri librari , game product app small footprint .', 'eri happi product easi use..pictur clear , take great pictures..', \"grandchildren home school util tabl mani learn app ! love use make feel `` grown '' ! tablet great lean tool receiv mani benefit !\", 'reat size , easi carri travel . need spend time look app contact maneg , interact calend import , music storag use .', 'purchas last tablet die . meet basic need price great .', 'erfect download read book ! ! perfect size nice , bright screen .', \"surpris learn capabl devic . husband access desktop thing could n't devic .\", 'got son . user friendli durabl .', 'visual qualiti fire 8 hd amaz . run fast easi use , durabl .', 'f look afford gift ! .', 'great tablet price , would recommend anyon look basic tablet .', 'ork great . love portabl book . overal great product', 'still learn thing new kindl fire . much better ( lighter weight easier use ) old tablet .', 'ust right size read book play game .', \"love everyth tablet ! imag sharp clear . 's fast light weight . love !\", 'veral nice product travel purpos valu money', 'children love tabl great qualiti pictur , excel camera', 'bought 3 tablet famili disappoint .', 'reat tablet fast screen good size never give problem', 'ought 87 year old grandmoth want abl play game read book librari . aunt live help use perfect type user . play , would consid anyon hardcor user want latest greatest tech . tech saavi , fire tablet advertis .', 'exactli person want gift enjoy use .', 'oe basic function tablet . hardcor user may want ipad .', 'ork great simpl tablet . huge fan silk browser could wors ! happi purchas !', \"'s fast easi use . second kindl fire .\", 'ore flexibl kindl bigger screen . like surf web download read book .', 'money beat tablet . full featur , pictur qualiti great , fast speed use internet .', 'asi use , solid build , sharp hp screen movi . need ?', 'ablet perfect beginn want basic', 'first tablet .. love .. actual read first e-book .. larg screen , easi read & play game .. fit nice purs', '8 inch fire definit better cheaper 7 inch . work fine enough teen play game watch movi .', 'reat tablet $ 100 . highest spec , get job done lite tablet user .', 'purchas kindl fire need entertain devic long flight . devic perfect size travel easi use set amazon account . worth purchas fire tablet amazon prime member . , would recommend avail app limit . complaint devic freez difficult reset .', 'fire tablet long batteri life . reason fast', 'ot wife love . previou gener one giant keep forward .', 'leek packag easi set great anyon want e reader offer .', 'est afford option kindl devic avail .', 'want get new kindl old one would charg show charg anymor . could depend length time final broke bought new one . happi one . afraid would lose music photo sinc came amazon store . howev , everyth old kindl transfer new one . still learn far good .', 'daughter like tablet play onlin game !', 'asi figur use extens vacat .', \"xcellent tablet leav easel display refer photo . 's light enough velcro articul stand ( posit tablet right next canva ) . 's cheap enough worri . love , price .\", 'bought want book comic movi disappoint ever sinc', '4 year old grandson love kindl . one sister got one .', 'asi use . beginn found pad good . enjoy kindl app .', 'kindl need . camera could better overal pretti happi purchas .', 'urchas daughter read . much option want .', 'great tablet price . kid love , alot read .', \"realli hope would faster inexspens tablet 've . mainli use email though job .\", \"ought christma gift someon . bought ipad well . updat 's use .\", 'reat tablet price . easi navig .', 'believ use husband recoveri foot surgeri .', 'someth use look someth take along trip', 'wonder devic . love extra capabl app .', 'ecent tablet . access kindl pretti much googl app .', 'happi tablet . worst thing steal time . lol', 'famili member vision problem . seen/us kindl anoth famili member - especi abil scale text . devic make possibl read , extrem difficulti .', 'asi setup connect wifi . great view area . easi read bright place .', 'got fire friend want buy kindle..thi serv kindl tab ... nice cheap..worth paid.. highli recommend beginn', 'ealli enjoy price valu tablet versu ipad', 'maze tablet fast processor . look great ... got good deal', 'e got 5 year old realli great price . work like charm ! !', 'find easi use , kindl come instruct , find way around .', \"bought tire watch youtub twitch phone . excel display sound decent-not great alway buy speaker . neg are-it definit fingerprint magnet , spectrum tv app awful-th app work fine phone , reason tablet freez unus . thing consid , 65 buck 's hard beat .\", \"love tablet . batteri life last long time . use amazon kindl fire predomin watch movi amazon prime , netflix 's , check email . also carri appoint meet . compact tablet , big bulki . playback movi great , movi hd . great littl tablet look someth watch movi check email . would definit recommend tablet friend famili member .\", 'daughter love kindl , much , well worth money .', 'look tablet highli portabl & could run directtv app & stream video . ( electron much older version ) . salesman recommend model base person experi . still learn function far seem easi use & promis .', 'second fire , one retir . like hd . work fine .', \"wife bought birthday . enjoy read biographi usual color photo . regular kindl make pic black white 're n't . allow see color photo . also love night featur 'm bed read . longer need light read need hold larg book .\", 'hank knowledg , low-pressur salesperson , readi buy first tablet . one right price ( sale ) disappoint . everi day learn way use besid check e-mail & check librari book & audio book . stay charg day , even regular use . recommend inexpens satisfactori altern expens tablet .', \"'s great tablet price . n't expect fast expens one . 's meant casual use great job . price , ca n't beat . get nice larg microsd card n't worri space . run littl slow certain thing multitask 's simpl tablet . 've run plenti 720p video without fail . 's great ebook file . elabor pdf take load lol graphic . batteri life seem good small tabl too.th real issu amazon app store limit . offshoot android app avail . way around wish would allow access googl play least offer apps.so , 's nice inexpens tabl work great . money , love n't get upset n't run fast $ 500 tablet . 's job .\", 'ought 10 yr old granddaught . everyth want tablet .', 'eri easi use tablet . lot app game avail .', \"e love freetim set kid newer kindl fire . abl creat login kid well set limit amount devic time allow daili ( set weekend desir ) . set age restrict content also , avoid inappropri ad , etc . 've download app , choos one want child access profil set , one child older allow access someth younger sibl n't . basic , like set access right know 're safe n't continu monitor everi moment . way , freetim kid set avail without subscrib freetim app access plan . : )\", 'reat tablet , clear pictur . would buy .', 'ood reader bought . ad annoy .', \"'s mini comput pack handheld devis . applic load quickli abl get work complet , ride commut rail .\", \"ice smaller tablet . 's good internet surf .\", 'urchas door prize gift given one year amazon membership . recipi love say perform well . ( past amazon fire user , i-pad graduat , love amazon fire 4 year without problem . fact , recycl son run like champ ) .', '4 kind tabl . best . listen music , read book , listen book , watch movies/tv show .', 'reat product kid game app parent control make sure monitor kid prevent unwant app purchas', 'purchas 2 tablet 6 8 year old . black friday special $ 59 . perfect app game want .', 'reat product . love amazon ecosystem . freetim subscript must', 'eed someth bit larger 6+ stream netflix , perfect !', \"husband bought christma present . could n't understand bought alreadi kindl fire.onc open got go , love could plu graphic much color older kindl .\", 'grandson-8-lov -- game book !', \"reat product 'm satisfi . recommend peopl .\", 'purchas tablet niec christma love .', 'asi use , respond quickli , great screen bright .', 'reat tablet app limit comparison tablet .', 'ork thought . problem . good buy experi .', 'e smaller one , great . one even better , size .', \"prime member & love tablet . user friendli especi prime member amazon . real tech savvi need help get keep thing simpl & automat . great clariti picture/data . 10 '' tablet n't sure downgrad size ( old eye ) delight see work fine 8 '' instead 10 '' . also , easier take around smaller size . highli recommend especi subscrib amazon prime member . great benefit ! !\", 'ot wife . love bigger screen better app manag featur one earlier gener kindl . definit worth !', 'onnect home wifi automat . mani book , mani game . actual function like comput tablet . e-mail breez .', \"ought replac no-nam budget tablet daughter . love much faster better display old tablet . wonder valu faster , better display sound , name brand cost ... 's love product ?\", \"love tablet . work well unlik `` bargain '' tablet tri use previous cost . like sound also ! enjoy free game download navig wev easili .\", \"'s ipad , 's great netflix app game . 'm worri kid get paw sinc 's rel inexpens .\", \"id n't featur look . return next day . may good other\", \"bought daughter love . 's speedi load book !\", 'urchas wife read lot truli enjoy amazon fire .', 'great christma gift , kid love gift ...', 'aughter got present . easi set display great . featur allow us limit time game , web , etc . allow unlimit time read', \"enjoy learn use . 're never old learn new thing .\", 'ought husband surpris work need', 'birthday present ideal travel read ebook rood', \"teenag daughter enjoy three year old 7 '' kindl recreat want larger screen word process . pair bluetooth keyboard thrill .\", 'bought around black friday $ 60 hope would awesom ... fail hard tri multipl differ micro sd card none recogn ye format everi format could think ... fat32 , ntf , fat , xfat ... even tri tablet ... didnt work ... make matter wors half app want use werent app store came find isnt link normal googl play store tablet app store miss mani common app ... main reason bought play clash clan cant wasnt app store ... tri also use aftermarket play store play coc didnt work ... launch play 1 time didnt work updat ... needless say return bought $ 250 samsung galaxi tab 10.1 ( 2016 version ) s-pen wayyyyy better ... bottom line get pay ... also hint s-pen version extra 1 gb ram non pen version ... get afford extra $ 50 ...', 'peopl purchas christma holiday love ...', \"purchas two kid , age 12 10. forget ipod touch . price , tablet ca n't beat ! download game , book movi free includ amazon prime membership . awesom ! !\", 'kid enjoy fire hd love pictur qualiti', 'ought two tablet niec christma origin bought amazon fire 7 inch viru 3 day purchas unabl work good thing play prior give gift said surpris well tablet held care 8 year old play daili problem screen big enough littl hand maneuv see highlight christma still would definit recommend', 'ealli like updat product comparison first one', 'unction eas use outstand right box . super clear screen weight minimum joy use .', 'tablet great kid adult littl knowledg comput . handl easili plenti storag', 'god sister use years.what read !', \"latest amazon 8 '' hd tablet good tablet price . updat processor extra memori ( expans slot ) allow good perform use tablet . netflix , hulu , brows internet , e-mail work smoothli . would recommend anyon look cost effect tablet\", 'otal worth money , app use daili basi !', 'ood tablet . wife love would recommend ... .', 'use mine mainli bigger screen . thing phone..but love big screen . bought one eaxh niec . love there . make videos..play music..read book . bith love ! im happi got us . alway reccomend friend kid .', 'mazon fire hd8 great product price . pick $ 69 holiday shop season . replac 1st gen samsung tab 2. thing sooo much faster . perfect size read kindl book , email , social media thing .', 'good gift price mani featur option', 'ot fanci ipad , fraction cost work well android system app like android phone , cant beat price', 'kid play , read , watch movi much love ! ! !', 'reat tablet read book , bluetooth hard get work much better tablet game movi', 'love kindl ! ! bias think howev 3 previou one prefer kindl tablet', 'great tablet kid . love time tablet restrict .', 'asi use . good size . great eread . expens worri kid use .', 'tablet purchas grandmoth could play game read book .', 'ought christma gift .everyon happi ! great devic $ $ . low price , great qualiti alway fire devic .', 'purchas item husband like read kindl book featur like silk , etc . light littl tablet good featur .', 'ought year end holiday parti raffl prize pool . great price peopl alway use amazon tablet . came kasperski free well , pretti gener complimentari add .', \"6 yr old daughter got tablet santa christma . far love , littl much perhaps.. use manag account/permiss far n't issu it.. softwar hw quit refin appl ipad product , expect lower price point .\", 'opinion good option cost . great appl ipad , cost much less . still get good use', \"mani educ app would definit go set 're mother like strict children watch tv game app download would definit recommend set parent control give . person opinion mother feel help set restrictions/cont help keep mind away gutter bcuz app internet websit inappropri site children watch . ca n't control put internet control children watch download stay occupi educ app , read book app free also recommend put payment method option kid love\", 'hd featur sold product , along fact lotmor streamlin older version', 'eri nice light internet brows , keep top email , view video , read e book , like get free librari . good browser , good batteri power , fast charg . relax sit comfi chair read brows . given hour enjoy inform minim price .', 'bought wife replac old kindl love . much easier read ipad updat featur make great purchas .', 'reat tablet price . order onlin easi . happi took long receiv though .', 'est tablet , good price , nice look . order line easi .', \"got mom christma . everi time visit , show someth els . 'm jealou , hope get one .\", \"fourth kindl ... upgrad time . mine goe everywher use throughout day . would n't without .\", 'e bought son went colleg . abl upload book document .', 'purchas mother-in-law love easier use understand', 'amazon fire amaz ! pictur clariti sound excel ! highli recommend tablet ! love !', 'harp pictur easi use . fantast price', 'like great bought friend pleas abount', 'want low cost qualiti tablet one dream ! easi navig excel graphic .', 'great tablet everyon . plenti memori download . great featur around .', 'two nook tablet , anoth kindl samsung best one yet . excel batteri life . let check email web kindl . book switch read listen . also work better nook audiobook .', 'bought tablet 4 year old daughter . mani advertis . would rather pay singl ad .', 'step son use . said well easi use .', 'good tablet kid start', \"bought 6 year old 's perfect . faster & clearer older version .\", 'wesom good size larg enough game photo', 'reat gift easi use love abl take anywher', 'bought replac 7 inch version lost airport . want bigger screen higher resolut . much load game offlin mode well video download amazon prime play plane wifi avail . plu . updat netflix app allow thing , plenti video . also play .mp4 video use vlc player load microsd card . cours wifi bluetooth great surf tri net listen music . 8 screen perfect lie bed watch show . highli recommend .', 'ntuitiv user interfac , rapid onlin access well design featur , light weight , ergonom button volum power . overal thoroughli well design , excel price devic web brows social media .', 'urchas store credit like lot . compar well expens tablets..recommend', \"reat devic price . good look screen , quick effici . amazon app store n't bad either\", 'reat gift age . wish bought two . everyth ipad', 'reat budget tablet web brows . also use mp3 player ebook reader .', 'got 2 8 yr old twin . 11 yr old one one better . perfect way get read', \"superb tablet price . n't come android oper system . amazon 's oper system . batteri last good long time app run fast . would recommend anyon want tablet .\", \"daughter love new tablet , use day 's pretti good\", 'happi new kindl ! highli recommend product !', 'may cheap great tablet work awesom .', 'wife absolut love tablet . wad earli christma present', 'ought 11 year old son absolut love .', 'bought christma gift son . easi use .', 'product handi go . check email find work truck .', 'amazon fan . ive amazon tablet cant compar brand . , amazon great custom servic , lot great app . hd 8 great tablet watch movi , game , social media . good kindl fire hdx . speaker arent good , hdx surround sound , hd 8 less expens , place sim card extra space , ok front rear face camera . overal great tablet great price .', \"previous bought older model tablet children . n't happi . tablet great , child safeti featur like wether would like surf web even limit amount hour child use . good tablet kid use mostli netflix hulu even though n't tube app altern app acc tube .\", 'ot tablet black friday . wow , 16 gig , great screen , expand memori , deal . tablet must amazon prime member . unlock door great prime perk ; book , show , shop . pair alexa . great screen book ! buy alreadi !', 'ought black friday 60 $ .valu money tablet . lag heavi task also app reload 2-3 app open time . price expect . go budget < 100 $ .', 'veral good tablet . best prime amazon abil watch amazon video . good price good tablet limit base oper system . video watch basic use good choic', 'love size portabl . keep touch fun .', \"ice tablet could n't beat black friday price\", \"'m sorri n't buy sooner ! easi use . love .\", 'feel bit rug origin fire tablet , believ excel valu .', 'ood tablet basic need . screen resolut pretti good . mostli use read sometim watch movies/show . great featur possibl use card expand memori . good product great price !', 'ought gift 86 yr old mom stalk kid grandkid fb . master few.minut minim instruct . watch post .', 'cheaper price kindle- love tablet', 'ad smaller version . love bigger screen . use product comput .', 'bought 2 kindl grandson . love ! charg set right away . issu point .', 'asi use bought 5 year old , found case allow keep safe .', 'reat 8 inch tablet amaz storag app .', \"anta drop 4th grader along expand memori . use netflix youtub well minecraft app . spend hundr someth basic kid need ? 'm sure last year well worth price .\", 'ot tablet 3 year old son put . much . mani learn game . love product', 'tablet run smooth amazon app , internet run steadi frame rate decent size screen .', 'good devic entertain entri level task . think lot price .', 'ice price new model alexa built expand storag !', 'enjoy new kindl , howev , extrem disappoint hdmi port like old version .', 'product realli awesom kid play sorts.w use strong case let kid play .', 'like featur easi navig .', 'perfect kid school work fun well .', 'reat gift dad . clear pictur easi set', 'ove kindl ! work better expect ! kindl much faster old tablet !', \"never own tablet . want i-pad like , could n't afford sticker price . one fit need perfect . mainli use web surf stream video . complaint far ! would recommend devic .\", 'lso great listen music also movi', 'screen pictur crisp bright . use tablet mani thing .', 'mall power ... great adult toy reader', \"purchas christma present aunt live us . price , thought would good option sinc n't want drop cash ipad.for comparison , closest thing 8 '' insignia tablet similar screen resolut , storag , featur releas time . fire tablet impress ! respons exist android tablet have.thi tablet run fireo amazon 's custom version android . typic like custom android , prefer close vanilla system possibl . bother fire . need parent control second none ! amazon app store extens , although extens googl play store . still abl find pretti much everyth need there.thi flagship devic , perform incred price . like purchas one soon .\", 'hope use googl launcher tablet realli lock chang launcher lock screen . still cheap fine watch movi .', 'reat tablet read also surfac web , along favorit social media app !', 'price low amazon use add subsid price . actual tablet work well . biggest neg instal app amazon store . mani android app avail googl store avail amazon store.i primarili use tablet bibl gateway , dish anywher , play game , read newspap , facebook . futur want tri use local librari .', 'creen clear batteri last long time . good substitut afford ipad .', 'tablet work fine . respons good resolut . tie amazon . requir mani hoop get app zinio work . amazon loosen grip , recommend good price .', 'great valu money save instead ipad appl .', 'un reliabl . good qualiti money . easi use .', 'reat read - nice imag , easi eye lightweight .', 'ought 10 year old daughter christma ! love ! ! ! great altern pricey ipad mini ! ! ! use watch netflix , youtub use homeschool . happi purchas ! ! !', 'got tablet sale wife love', 'far good kindl fire hd . still need play see maxim use .', \"e love kindl fire , purchas older coupl 's easi work .\", 'amazon fire great tablet awesom graphic . use mainli surf web issu .', 'urchas nephew christma . use everyday . good product screen size perfect .', 'reat tablet price . granddaught love user friendli .', 'ot niec age 6-13 love parent realli keep occupi', \"gift mom . enjoy 's easi use good pictur sound qualiti . price also great\", 'want bigger screen , , tri get use differ applic , far seem easi .', 'amazon fire simpli amaz would buy anyth els .', \"id n't want go site amazon want .\", \"e bought three daughter ! got kid proof case ad free time low monthli fee could n't happier ! much better worri break phone ipad !\", \"love kindl . wo n't without one . 've even bought extra one , case . believ 's best tablet market .\", 'ought one replac smaller ( non hd ) version . lot faster pictur notic better . would recommend anyon want spend extra $ 50 big name .', \"ould ask better tablet money . n't look anyth extrem . want look nice 's job game brows . well . gave son christma want one . go buy anoth mother law . lightweight , simpl layout . snappi . ca n't go wrong .\", 'perfect gift godson . love ! definit would recommend product .', 'lot thing kindl use reli comput .', 'xcellent resourc children video stream wifi use mobil hotspot kid .', 'kindl fire tablet great price . solid perform batteri life process power . downsid oper system differ variat android , could incompat .', 'est choic 100 $ marketamazon best ! ! !', 'realli didnt expect go work.but good.gift friend', \"ought gift mom replac origin kindl fire . 's month love problem .\", 'request 7 yr old granddaugt alway ask older sister could share due bought tablet/s yr earlier . love security/parent control options.starfal favorit educ app told must . realli enjoy pics/vib due differ state . also game time limit . size resolut perfect .', 'best devic found e-book . know use lot , librari hand .', \"bought tablet pretti much exclus e-read . 's actual cheaper kindl . limit use , work fine . n't think would want use gener purpos tabl ( slow ! ) . make fine e-read though . recommend friend , would , would make sure knew use .\", \"bought christma present sister love . 's easi use , lightweight n't seem lot bug glitch . 's good sourc entertain 's work down-tim . pass time read ebook , brows web play game .\", 'origin purchas kindl paperwhit return next day purchas one . easi read , watch movi , listen music .', 'ork well . easi use . batteri seem good . would buy .', \"ick box look price happi pay . one caveat ( best buy geek squad crew ) unawar : glitch keyboard prevent work properli . kindle/amazon awar glitch download third-parti keyboard fix replac keyboard 's built unit abl fix problem . made geek squad awar know .\", 'mazon mayday function avail unexpect . servic function expect', 'erfect tablet take anywher go lighter ipad .', 'asi use tablet everi day use . addit app help increas product work daili use .', \"tablet need tablet . reason 's 3rd one .\", 'ought tablet fiancé daughter , get home set , decid keep . great screen work great pair amazon echo . love highli recommend .', 'first amazon e-reader-tablet second e-read . easi use get initi hoop . like free game fact new load book comput tablet . one thing , market tablet bigger e-read . lot better nook . love product', \"ought gift parent n't tech savi abl use eas\", \"bought sever version tablet kid year ever impress . first got one son , oldest daughter replac children 's tablet , worthless , tablet give everyth could want allow control kid access even let see download onto . want set time shut night , play game use netflix ... great product !\", 'reat gift younger person want tablet', 'fire great . size realli nice . big . clariti realli good .', 'inexpens tablet everyth want . read book magazin keep tab kid grandkid facebook . easi use crystal clear pictur video .', 'reat entri level tablet kid anyon heavili use tablet . 16 gb , small add sd card . bewar come 6gb 16 app . come bunch preload amazon app .', 'tablet great . love color featur . buy daughter . great purchas', 'hat expect . better budget tablet ata good price . bought integr alexa work well , info alexa request show automat tablet .', \"'s excel tablet kid download game watch cartoon\", 'look good tablet $ 100..thi delivered..get use amazon app lol', 'xcellent ratio qualiti price . lightweight . good resolut easi use .', \"fter long review decid buy fire tablet gift great frienday . love ! 's perfect size featur look tablet . happi birthday !\", \"ove everyth kindl . 'm long-term amazon prime member .\", 'reat tablet price . father law like easi use tablet .', 'fire excel tabl mani basic task .', 'ot good product short batteri life use 20 minut', 'look someth read fit bill right price.great screen clariti , good adjust . work well batteri life great . size nice . big enough 1 hand need .', 'great tablet book , game web brows . user friendli , -and would definit recommend product !', 'enjoy use reader like idea go internet kindl .', 'thought tablet junk surpass expect', \"n't realli expect much , howev pleasantli surprised.it feel solid , respons , screen good.for price bargain ! !\", 'ood want someth inexpens minimum well .', 'like ipad babi , special super ok thank byee', 'found versatil enjoy benefit touch screen .', 'pad killer ! fierc tablet convini price !', 'ought gift love kind app easi use even easyer amazon prime', \"bought display echo . turn voicecast rout inform tablet voic reapons . 's exactli hope would price right .\", 'tablet exactli look take trip . kid watch movi video , read kindl librari . perfect size .', 'bought gift son know love old kindl fire like lot', 'mom old one , excit get one .', 'ork great fast . great read internet use', \"kindl overload app never use . despit one best buy ' associ said , remov amazon app . app take much memori . pad love bought backup work . unfortun , bog . also n't like amazon want access much info set email , wo n't use email either . like sell craig 's list less half paid .\", \"ine read , ... n't use anyth els yet\", \"use kindl fire coupl year . good tablet , screen went black . best buy replac could n't pleas . enjoy read kindl fire hd ever . tri 'll buy !\", 'viabl substitut expens pad especi kid want tablet . download book , game , email access internet . parent control easili enabl .', 'lueray twhat look great watch movi thank', 'ove best buy shop best buy alway buy tv kid buy kid tablet best buy love best buy', 'ot mom birthday , absolut love . great tablet price point , good tablet overal .', 'love . would recommend go best buy buy kindl fire sold !', 'ice size screen easi light weight take class', 'tablet great son . would nice littl horsepow', '76 year old mom love ! someth wait doctor offic - love read , crossword , etc .', 'enjoy i-pad replac . easi read light size perfect travel .', \"absolut love kindl 8 ! great pictur , storag & sound . ca n't live without kindl !\", 'like first except browser kind clunki . also . use android app . worst thing though mine stop work middl watch movi long plane flight . fulli charg . tri recharg turn etc . blank screen . kind cool paperweight . hope get money back . get new one .', 'ove mine ! work great prime ! best movi !', \"bought dad late 60 mainli listen music read ebook borrow librari . set love . n't like ad start unless pay get rid .\", 'njoy read book well view video .', \"ot two mom 's love . mani great featur ! ! !\", 'tablet awesom . fact use micro sd card memori listen content card great . addit screen size want disappoint . great purchas ! ! !', \"'m happi kindl fire . beyond abl read book , sort thing abl download huge varieti app . also hold charg long . size perfect portabl , yet screen much larger smartphon , love . would definit recommend tablet other !\", \"amazon fire hd 8 awesom devic . price tablet mind boggl ! ! tablet everyth would expect want tablet . amazon store amazon prime preload . 's much fun easi use . perform tablet unbeliev . never stop think modest price paid fantast tablet . feel comfort hand . design nice . size adequ tablet use . expand memori storag devic addit 240gb . believ ? outstand ! !\", 'ought christma present . son use watch youtub netflick . work great .', 'overal design make fir nice hand . easi setup featur util previou fire tablet . like camera blue shade abil . like read bed color realli help wind . long last batteri !', 'ot fire tablet youngest daughter christma love . also love option restrict app content age !', 'bought two amazon fire hd tablet decemb christma gift . recipi happi gift . plan purchas one near futur .', 'ite gift , concern size amazon interfac . easi enough download googl play store , familiar user . size initi concern , right watch movi without cumbersom .', 'son realli like larger screen play game .', 'eri easi use much offer low price .', 'reat product , easi use , love light pad , eas load book ,', \"hey use christma morn ! ! n't take long get best tablet\", 'think would rate 5 star howev got tablet home 8 year old use total 2hr ... next day reboot screen similar do window . excel custom servic store allow exchang next day . problem second one . great tablet price .', 'love amazon nice read book play game', 'bought kindl gift mother could access facebook account easili . love eas use . 3 kindl tablet home use daili . mother use email light game watch netflix well . satisfi .', \"want low cost internet devic feed internet radio choic stereo . fit bill well . use headphon jack connect stereo get great sound . n't use app come devic .\", 'kindl fire wonder , small devic use multitud task . use mostli eread simpl use . happi chose one . lightweight conveni take .', \"bought temporari replac wife 's 11 '' kindl fire hd servic . like 8 '' model much continu use 11 '' one return .\", 'test item gave gift . simpl enough need brows , social media entertain . definit best price simpl need compar spend $ 100 ipad', \"feel like afford tablet . best class , n't price either . work well . happi purchas .\", 'reat watch sport event away home within wi fi rang .', 'easi download read . enjoy read take anywher without heavi book', 'bought subscrib amazon prime membership . great littl tablet low price.. good deal pass sale . abil talk alexa , surf web , listen music read books/magazin ( lot free music book prime member ) .', 'f ad dont bother , may decent devic . purchas kid load much spam , kept load make slow laggi . plu carrasoul loadout make hard navig kid , kid friendli ! oh pay $ 15 remov ad wont remov . buy samsung , better everyth !', \"second fire , 'm upgrad 2nd gener 7 '' model . love screen resolut . movi video sharp pixel . camera bonu first version . togeth great buy $ 100 sale . thank best buy .\", \"would buy twice alreadi . actual bought kid fire kindl bought wife , 's lost borrow son kid fire kindl end buy , would buy . would recommend buy sd card fill fast without lot cheaper buy lower gb kindl buy good sd card .\", \"tablet . amazon offer ton free app , hundr thousand free e-book ton free game . tablet intuit intellig . seamlessli enjoy stream favorit show read articl , book period . love tablet n't place app devic , use user miro sd card instead 200gb addit storag dizzi amount storag game , app , book movi download enjoy . also allow owner share devic famili member , deleg member account person tailor individu . even option creat children 's account -- extra bonu . abl mirror content tablet onto samsung smart televis . definit consid amazon first foremost make futur tablet purchas . maintain charg good deal time , allevi need near outlet enjoy use . charg even use sever hour next day , sometim two day . one ever creat tablet consider owner/end-us .\", 'love read tablet make easi carri entir librari everywher . also becom addict free underground game .', \"ought 8 '' model use addit current 3 year old kindl fire hd ( 7 inch model ) . far pleas qualiti unit . slightli larger screen make watch movi much better . n't want larger 10 '' screen ( yet ) .\", 'purchas black friday could pass price . tablet work great basic internet need great shop amazon . purchas anoth android tablet , look someth littl power sinc tablet slow multi-task .', \"bought son ( 's 1.5 year old ) could play basic toddler game , found tablet extrem use school 's larg screen super long batteri life . 'm wait surfac pro 5 tablet got cheap make second guess pay much ! basic lectur take note watch netflix hulu kid game , ca n't beat .\", 'best tablet price use everyday watch youtub video', 'reat purchas granddaught christma .', 'tablet perfect anyth could want tablet .', 'grandmoth enjoy tablet ... use reader .', 'reat item great price , wife love wont put !', 'reat black friday deal mediocr tablet . android os though !', 'ant tablet cheap price item fit bill . bought black friday made price even better . screen look good perform app use far met expect . mainli use surf web , youtub , netflix . devic handl eas . overal , satisfi devic .', \"ork well ; issu reboot system hangs.. good size - big small . screen good read . batteri life good , 've bought book amazon mostli side-load book librari onto 32 gb micro sd card .\", 'hough got cheap price black friday , fire great . bad camera dim screen resolut . pro : instal googl play without hassleveri good book read option', 'got son love ! play game , watch movi , tube video , use internet help homework . also love book , ap . great black friday deal gotten one .', 'got great price . price match . much faster get laptop check email', 'purchas product youngest son ! love color size . storag great number activ download !', 'look tablet run remot music server easi chair . first tablet bought price ran batteri hour . amazon product much better batteri life imag qualiti nice .', 'product easi use . screen size great . would recommend anyon .', 'got kid love . amazon free time prime well worth money', 'est tablet around , cheaper much tablet . great buy , work perfect ! batteri last day .', 'like read book fast cheap way', \"'s great buy . read email go web\", 'reat christma gift kid . hour fun game .', 'purchas tablet mostli entertain . enjoy play game tablet great purpos . also plan use read electron book .', 'eri nice qualiti product . east set use .', 'much screen size previous kindl . fast charg . longer batteri life .', 'urchas mom read ebook , great perform , screen look good , easi use . happi purchas .', 'ess expens last year mani featur bigger screen !', \"ought wife x-ma love . n't put\", \"good product video , surf read . howev version drop android support far tell . coupl app run old fire fine extrem problemat one . one app use everyday n't work new fire , keep old one around . kind inconveni . would recommend see app support fire drop money .\", 'reason replac broken tablet .', 'urchas tablet two year old son . easi use surprisingli durabl . would recommend replac plan purchas child .', \"etter faster kindl 7 '' . great perform price .\", 'ove , easi oper . reason price - sale .', 'ood product . onboard storag fill quickli .', \"ought gift dad like far . 's fast enough app great read\", \"ork great app store noth like appl googl . fortun , instal mani android app 1mobil . screen fabul 's great root : make read book fun .\", \"love tablet . know 's ipad big tablet need . 've week . 've download video , read book play game . 've zero problem far . know 's best video , price tablet n't expect look like flat screen tv . 'm tri load mani thing keep slow . far good . brows internet easi . 'm get use browser app store amazon . price tablet 's shabbi ! ! !\", 'ou mani thing best part app free amazon underground !', 'ork great 6 year old . want inexpens tablet himsinc pretti rough thing . far good , love freetim app .', 'look get inexpens tablet ran android . amazon fire tablet much better valu similar product . happi tablet durabl qualiti far . would recommend anyon look lower-end tablet .', 'ought 2 teenag love ... cool read featur zero buffer watch netflix .', 'ood qualiti product . clear display easi use .', \"mother , husband , daughter enjoy use fire . 's great way stay preoccupi .\", \"ut tablet choic buy children . ca n't beat price durabl .\", 'eri good product right cost ! great gift holiday .', 'urchas read price . good valu money .', 'reat read , game play , search web social media .', 'realli like fire 8 16gb , fast smooth .', \"oe everyth regular tablet price realli ca n't beat\", 'easi use exactli hope .', 'reat tablet stream ! good internet connect along nice display', 'ought e-read . conveni easi use . text readabl . pleas .', \"nice littl tablet $ 60 paid black friday . regular price would probabl gone someth littl less restrict without much amazon content . lock screen ad n't much problem , understand amazon sell cheap get back via ad , 15-20 amazon app littl much . would easier stomach could add one want remov one n't . said , abl instal googl play store tablet everyth need . overal , 'm pretti happi purchas . 's nice new toy . one note : onlin photo magenta look purpl . 's actual pink . like purpl , get black one purpl case .\", 'cool play would never spend money appl .', \"ove new fire hd 8. price amaz amazon prime mbr even better ! great kid lock profil kid mode ca n't buy anyth . one downfal smaller amount app avail appl googl play .\", \"ad fire hd 7 '' want upgrad . love far realli enjoy bigger screen !\", 'tablet christma gift', 'great buy son . need someth could easili transport woudl allow access internet variou form media . perfect choic sinc also amazon prime account .', \"replac wife 's origin ipad broken kindl paperwhit . love , basic everyth previou devic one unit easi use , good batteri life , nice screen resolut good size . great valu , especi compar ipad .\", 'price great work well price display hd love', 'money , well pleas , think big bargain !', 'purchas tablet mother , set test . super fast ! origin kindl fire say amazon come long way ! new fire hd8 much better origin ! like much think purchas one ! would highli recommend tablet anyon !', 'kindl , need new one old one would longer charg well . still adjust differ featur origin one . like fact difficult find case one .', 'eri happi purchas , exactli look', \"origin kindl fire longer accept charg . n't go replac , bought ipad . saw hd8 kiosk bb store , realiz much better like size feel read book ( ipad prefer thing ) . fire 's clariti much improv old one , plu respond better . n't like ca n't choos photo lock screen - advertis . also n't like usual take tri unlock . menial issu perspect .\", \"'s good starter tablet , bad run amazon os .\", 'ot sister christma present love it.easi use great book .', 'third kindl , still two ; howev , camera much larger screen . would take product day tablet .', 'ook forward hear grandkid far love', 'ood small tablet purpos read , play game', 'wife kid love easi use size perfect', 'reat tablet beginn ! light screen wide . enjoy use travel .', 'ast process great batteri read eye bother . expand memori big plu .', 'new kindl fire hd good son love', 'ot grandmoth absolut love .', 'love use watch netflix play game', 'right size put game like ipad .', 'want new kindl fir . price right', \"display sharp vivid say still good . probabl better read watch video . n't realli get game , good select . wifi work well internet brows fast .\", 'kindl great way read watch video eas !', 'xcite tablet still amaz eas use great product', \"ould n't beat valu black friday price . n't best tablet , lot price .\", 'reat size , sound batteri . buy alreadi .', 'ove tablet mainli use game internet . grrat product foe price .', \"n't use yet , son quick check seem fine .\", \"'ve kindl fire 5-6 year . 's still work slow . bought updat version sale . love ! play game , download book , check email facebook . 's like portabl mini comput would n't without . like better peopl 's tablet ca n't beat price . bought gift everybodi love ! 'd recommend peopl age .\", 'reat product , complaint , good kid adult', \"nineti dollar , expection low , still good tabl , 's good light use like watch video web brows , camera bit lack , certain time devic freez lag . overal good tablet $ 90 , would recommend anyon budget .\", 'ood starter unit . easi beginn use . price low give tast tablet world .', \"parent option need work . ca n't even log child account app load use . also kid 's login n't access pre-load app ( like calcul ) . seem realli odd ca n't give access basic function tablet.otherwis , tablet work great .\", \"ought fire hd 8 tablet wife . n't like use comput avoid smartphon , new tablet big hit . use play game stream movi radio program . use everyth els -- read news , check e-mail , onlin shop , etc . easi set even easier use . plenti speed capac everyth want .\", 'e alreadi kindl know great ! son go live !', \"purchas 2 fire hd tablet gift . pack lot punch price . help set abl get idea go work . screen nice clear . speed tablet good . easi use . alreadi amazon famili prime no-brainer.i n't believ get better tablet price point .\", 'bought starter onlin browser . portabl pad . great price .', 'ust wife want need love ! easi use simpl set !', 'ood tablet money . good add amazon prime', \"ou ca n't beat price . great deal 're pay .\", 'e bought 9 yr. old daughter love . well . kindl tablet great !', 'ts fast , good light . got 16gb space , best gift ive bought bookread .', 'love ... ..read e book easyperfect price', 'ith $ 20 deal last blackfriday , get . much clearer faster fire hd . light weight', \"f shop amazon time , help make easier still . lot ad pop , ca n't use app non-amazon sourc unless root , complic . realist altern ipad galaxi note . want devic shop amazon , 'll love .\", '2nd fire tablet . alwya need one . wish last longer 4 year .', 'ire tablet power size everyth !', \"hile app miss due use googl play store list minim . tablet quick , respons , notic nicer 7 '' fire . pick sale black friday sale . 's great front tv catch email light web brows .\", 'rice fabul entri level tablet . right', 'impress quick respons touch overal speed.includ alex app.fit top coat pocket', 'buy kindl sinc first came . ever want upgrad kindl chosen brand . tech savvi enjoy watch movi , listen music primarili read . like abil purchas narrat favorit titl use text-to-speech rest .', 'ave use yet christma gift', \"ife love thing . read nonstop . ca n't put\", 'ice price put googl play store still nice tablet', \"realli good tablet adult especi great kid load movi add app use . cost low ca n't beat . plu , main featur amazon kindl name product put way ahead name tablet market . great product gift .\", 'purchas two black friday . great purchas . inexpens abil mani thing kid . later bought tough case keep damag minim .', 'love kindl . bought larger screen own 2 previou 7 inch screen .', 'tablet best batteri ive ever seen . pictur great .', 'ike lot app choos . user friendli', \"want new tablet saw 7 '' sale christma , husband offer 8 '' $ 10 , good valu ! thin light weight . easi start . would like booklet featuer use , etc . noth print came one paper . tutori set button slot . enjoy quick load start , wish physic booklet 's , onlin tutori .\", 'ore featur sever way ipad . android tablet realli power', 'bought wife play lot game along grandson , perfect download game want without take space ipad .', 'reat take need alon time surf read .', 'ove tablet ! easi use easi take', 'wesom tablet ! love use read surf web .', \"matter prefer prefer tablet . mean use window googl might . , use amazon music , video , book , shop tablet awesom . 's made especi amazon ecosystem user . light nice feel . live blue shade option less blue light read .\", 'njoy kindl . son use time read . help improv read skill . glad bought . thank .', \"one best birthday present , ever purchas husband . said n't use comput , smartphon daili view fb . got drone christma need someth view , fli . research kindl fire thought could practic spring . farm , n't busi winter . thank good , busi kindl hour everi day . think great , phone back .\", \"realli enjoy read . much run shelf space . read book i-pad mini realli n't trick . new amazon fire hd-8 . handi size , least bit heavi super bright . add face digit materi magazin novel often far cheaper `` hard copi '' .\", 'maze video qualiti easi maneuv wonder screen size easi set', 'reat tablet photo imag qualiti fuzzi best .', \"fire hd8 strike excel balanc perform price . mani featur 'd want tablet fraction cost . work flawlessli read video stream .\", \"second kindl love . 's lightweight , simpl , fast . 's conveni trip fit bag without weigh .\", \"ought gift . mother like . 's easi simpl use .\", 'love fire tablet use everyday home work break', \"order amazon fire two granddaught love nana 's much\", 'ealli beauti display great watch movi play game . power price play lot game amazon free - even remov microtransact lot games.onli downsid need amazon prime get tablet', 'eri littl set , amazon help set function . clear pictur easi use . take pictur way', 'raphic great price . would highli recommend .', 'ought mom need great price . want get ipad , think might great less expens option well .', \"pad work thought screen n't vibrant ipad . still great deal price .\", 'erfect thing need read book play game', \"'m love tablet far . realli like amazon underground , fire os updat , alexa . : )\", 'tablet perfect surf internet follow social media', 'like shape size kindl , graphic good . play game long charg seem run pretti quickli . good book music . would recommend categori .', 'price . amongst other felt deal', 'erfect size respons . 4 .', 'issu run game internet well . , , , , , , , , , , , ,', 'easi use children . love one hope buy anoth one kid christma ! !', 'ood price product . purchas middl school son .', 'ot good , hate , never buy , suck . done', 'martphon work job , fire read instruct worksheet . use tool connect friend colleagu . 8-inch right size hold hand carri . give inform , beat print everyth , carri around larg laptop .', 'hink great product parent christma gift .', 'amazon fire tablet excel product . primarili use purchas read book kindl . also , use facebook activ . batteri life long recharg quickli . 10 year old son also enjoy use . would highli recommend product other .', 'husband truck driver road away home , like show movi watch . much space download thing watch .', 'great kindl reader . easi order , read store book . also speedi find amazon product order . app realli slow - slow .', 'asi use tablet easi use ebook reader', \"ot sure due new version 'm abl instal even sideload certain app onto tablet . amazon realli tri lock non-amazon app name one googl . asid though , perform alreadi 'd expect tablet price rang . purchas mom 's need mom complaint thu far .\", 'ablet work good want .', 'till wait alexa function . sever call amazon supportl conflict answer get work , told isnot yet avail fire hd 8 tablet .', 'amazon fire hd8 great featur . size perfect carri anywher . excel app access book , movi , game etc . clear screen . quick easi setup begin use .', 'sever budget tablet , blow away . will invest amazon ecosystem , well worth .', 'tablet good one everyday use . small clear imag . sure realli want one small ok .', 'run android , googl play store . amazon app moztli titl , avail get googl play . bought daughter enjoy . amazon prime subscript get lot tablet well .', 'ought daughter , love parent control curfew set', 'like portabl . take babysit granddaught .', 'ought gift love great amazon prime', 'ad previou version tablet look upgrad . got sale pleas .', 'daughter love tablet ! easi use carri', 'best kindl fire ever , love quickli app run , abl watch movi , listen music , etc .', 'salesman good point us right direct . tablet perfect triplet grandson .', \"xcellent valu price . super easi use set . wonder display . love fact add sd card memori unlik old kindl . plu 'm realli impress fact amazon great offer .\", \"love kindl . fast , great pict qualiti conveni use . love use watch netflix . worth purchas n't want spend much money .\", 'love tablet ! ! excel qualiti speaker screen . lot storag space . worth money ! !', 'ought husband love . perfect want .', \"eri fast super easi use 'm pleas purchas ! !\", \"'s work realli well n't issu\", 'ablet good beginn like read', 'kindl fire great featur price . video qualiti asstound .', \"work realli well unschool ipad . use travel easi use thing need , i.e . map , book download , internet access , youtub , etc.. n't play game , comment .\", \"f want tablet use daili basi facebook onlin purchas could n't ask better tablet .\", 'use read book , watch movi , get online.. work great easi use .', 'bought replac samsung galaxi tab 3. absolut love kindl hd 8. easi set easi find way around . reason took 1 star found app avail kindl . far info read onlin way resolv issu .', \"ust simpl kindl . n't glass back .\", 'hroughli enjoy fire tablet . play game read book . pleas .', 'xcellent screen , fast respons . almost steal price .', 'uch harder work android . none wallpap app download kindl store work devic . mani app look cheap display . wise prettier respons cheaper $ 49 tablet . make look like android tablet . googl play . everyth harder work regular android tablet $ 100 exce expect . respons model fire', 'indl fire dream . larger screen easi read', 'amazon prime 2 year new fire hd make worth . watch movi fli download . batteri last day . use everyday .', 'ell worth 80 buck , especi amazon prime member . download watch anyth free , includ movi magazin . screen bit darker side , batteri life great . ipad , use . great wait ipad recharg ...', 'ead easi , make font larg need', 'mprove hd 7. thing set differ hard learn . also bit heavier 7 read bed littl harder', 'ot much complain . less 100 dollar get 8in tablet pretti good spec ; expand storag , long batteri life , great speaker , fast processor , decent camera hi def screen . easi use well built tablet ... .the knock includ add , use awhil bare notic .', \"'ve purchas number kindl fire product famili past sever year continu use . easi use even youngest grandchildren 87 year old mother-in-law use reader game . overal good valu .\", 'fastest boot tablet come across . speed access site realli amaz .', 'went bestbuy purchas replac mine die . love kindl , decid get 2-in-1 fire . perfect need .', 'fire hdx 8 love , unfortun got damag could replac . purchas fire hd 8 exchang n pay differ fire hd 10. 8 lot option use . : (', 'reat product great price.i like builtin filter easi youreyes.prob best reader 100 dollar .', 'eri good product . super qualiti best buy store rep explain product', 'third kindl fire improv time . color crisper best stay charg lot longer .', 'bought sister , alreadi kindl 7. price 8 better . first obviou . inch screen make differ hd make read stream alot clearer . abl add storag micro sd card huge plu well . devic includ camera ! last 100.00 make huge valu great tablet .', 'xcellent . good ipad fraction price .', \"amazon fire hd8 ( 2016 model ) great tablet price ; howev , fire os offer limit abil user . person , wish way mirror screen tv without purchas fire tv stream stick . also , inabl use googl play store major set back . n't two complaint , 'd give tablet 4 star .\", 'realli love new shape size kindl hd . daughter use control great .', \"'m love new fire , mainli n't fork coupl hundr . beef magazin format demens ipad n't look great\", 'ove tablet easi work problem loads.and lite weight .', 'ork okay tablet especi access amazon.no good gener tablet googl app avail , chrome , gmail , etc .', 'love kindl . love fact use sd card storag . great job', 'devic price right give gift 8 year old', 'e hard time tablet 8 year old load app sinc around 3-4 year age far tablet surviv everyth except constant drain batteri use .', 'believ depend want use . bought young kid love . basic stuff like surf internet , watch youtub play game . complaint sometim charg , even connect whole night . restart pad charg , glitch .', \"ork well . realli like bigger screen ( 7 '' ) . easier read , easier use better .\", \"tablet great anyon use basics.load time bit slow brows web stream video , 's load , play without buffer long got internet speed good enough . tablet good size great pictur , download video music . price , make pretti good gift someon want first tablet .\", 'ought one kid use travel , lot good free game . instal vlc media player app store fill sd drive movi . nice quit hour end.batteri life awesom !', \"n't beat valu . 5 star even though less app play store .\", \"bought fire hd8 altern carri around laptop buy mani textbook colleg . fact save well $ 150 one 5 book get semest godsend . undergradu cours seen offer ebook form kindl . care constant abil internet without wifi hotspot , 's great resourc . pro : price still less money save biolog book.a lot less weight 5 colleg textbooks.so far book need colleg avail ebook amazon.a singl charg make 8 hour school day.con : want/ne network connect , use phone hotspot connect anoth wifi network . bottom line , want cheaper altern lug $ 750 book around . came well $ 500 consid bought .\", 'disappoint inabl download app use phone .', \"previou model fine read littl slow thing . extra .5 ram make differ . happi 're prime member lot freebi !\", 'like tablet . everyth want . howev app within need updat often . happen would top ipad mini . , give enough need hd . $ 89 good deal .', \"reat inexpens tablet everyday use . 's power enough super graphic game 's great basic app like surf web , email , news , etc . amazon `` underground '' app total free ( includ in-app purchas ) . downsid sometim see full screen ad ( usual product 's amazon wishlist ) . all-in-al , 's great tablet n't worri break .\", \"reat price 89 dollar great tablet . fast everyth accept game play . exampl play asphalt 8 game bare playabl . graphic struggl tablet higher graphic game . also amazon tablet googl play store load googl play . great tube video put googl play amazon tablet . screen good long sun n't hit . stereo speaker sound great loud . realli like tablet price realli like play game good graphic qualiti . said return tablet order nvidia shield 8 inch tablet best buy 199 dollar . got shield week ago wow ! ! differ graphic game qualiti . thing good xbox1 ps4 . nvidia shield tablet simpli unbeliev price 199 consid appl samsung tablet fast tablet least twice cost . plu dubbl game consol xbox pc game 4k tv . amazon tablet also great tablet normal usag gamer like nvidia tablet tablet choic hand period ! ! n't know bbuy kind hide nvidia tab websit n't sell store . display store . would outsel appl samsung tablet . hope help thank .\", 'find fire much lighter easi use', \"use primarili reader ; howev , smaller number unread book familiar `` carousel '' kindl reader . tablet faster , brighter clear tablet use internet purpos . would recommend product anyon use tablet reader .\", 'oe great brows research easi use love featur especi privat brows great price well', 'reat littl tablet great price . keep work listen music lunchtim read .', 'ant travel without laptop . found fire perfect . use mainli check email keep facebook post friend . found size screen easi read . type tad uncomfort one experi use . yet use eread .', 'reat tablet replac kindl . love featur .', \"great tablet teen . love price ca n't beat !\", \"great tablet . amaz storag . use mine daili . great read , surf web game . one small thing n't like amazon prime show bit dark reason . hulu netflix work wonder .\", 'kindl great read . also like play game .', 'love amazon tablet much love use', 'ts good perform highli recommend amazon user', \"bought wife replac 7 '' fire hard time hold charg anymor . thrill ! easi transfer book app old fire . mainli use book , email game perfect tablet . better graphic quicker 16gb storag\", \"f n't want need someth cheaper ipad qualiti , great happi medium.th processor make fluid ride . 's speedi . android store give good app option amazon ecospher everywher here.th softwar touch buggi 's still great deal tablet.for child , someth want use casual dime , 's recommend .\", 'asi read . light weight . mani good featur .', \"read new 8 '' amazon tablet new york time . googl nexu 7 , 4 year old , get slower slower , need upgrad - littl money possible.thi amazon fire 8 '' excel valu money ( $ 89 ! ) - fast , great screen resolut , easi use . skeptic silk browser , 'd never heard , work fine . `` page forward '' arrow , odd , backward , live that.it exceed expect 'm happi . 'm amazon ecosystem , first foray , 's good one ! congrat amazon make afford , great qualiti tablet ! also , purchas experi best buy easi conveni , alway !\", \"new fire hd 8 improv fire hd 7 '' . faster larger screen make read book much easier . wish screen easier read outsid car . much glare place .\", \"ove ! 'm comput savi abl figur thing without help .\", 'need someth sinc tablet die . lot easier learn old tabl . lot kindl tablet', 'ight carri good pictur qualiti . purchas hear impair person download video american sign languag . product easi maneuv someon use tablet .', 'love tablet . purchas gift glad !', 'new fire hd 8 tablet nice upgrad previou version . storag doubl 16 gb ram increas 50 % 1.5 gb . make tablet faster respons . improv batteri life much lower price , great gener purpos tablet .', 'purchas dad ( 70 ) need someth easi use . realli enjoy .', 'great product.. , . qualiti awesom pictur good clear ...', 'issu purchas . found great cover line amazon use everi night . thank servic .', 'great pictur , good size , lot storag camera . would recommend', 'went 7 inch kindl 8 realli made differ . easier read clearer old one .', \"love tablet . 's easi use , great price & lightweight .\", \"second kindl fire hd . satisfi first one , 'm realli enjoy larger screen . biggest need preserv progress 've made variou game without replay , least access book , movi game . love kindl !\", 'ove product . use everi day web , game read .', \"bought replac wife 's ( 1st gener ) kindl fire . like even better old one , especi pinsharp screen .\", 'reat kindl fire , work great read , play game , etc . highli recommend everyon .', 'eri pleas devic . great price , easi use , light weight .', 'ice upgrad old kindl . like much .', \"price perfect . read book , search web , watch netflix . 's ipad price amaz !\", 'i̇t cheap tablet option come amazon . latest model satisfi need', 'eri descent non-ipad . good speaker . great price . screen littl dark . great buy amazon prime sinc download stuff watch offlin ( great trip , etc ... ) . overal great cheap ipad even back-up tablet . terrif batteri life .', \"thing look nice , run nice feel nice price n't think find better tablet .\", \"ot 9 year old ipad crash burn . like android could n't afford expens tablet . took chanc one . pleas 'm pleas seem sturdi , cheap qualiti . go get youngest child one . pleas .\", 'qualiti display better expect price . ( keep mind ipad ! ) . app amazon well integr function fulli enjoy without limit . satisfi product . review fire hd 8 , 16 gb .', 'like hard time figur thing out.do get talk geek squad free ? come store get someon help questions.wil fee servic ?', \"eauti hd resolut tablet . love 8 '' size , big small .\", 'awesom tablet , fast , great display app need person entertain look great tablet entertain best , want tablet work applic one awar buy tablet want ton entertain . also larger processor intern memori extern memori keep photo unbeliev strongli recommend , , work entertain .', \"bought 2 , 1 kid . easi set figur iut . went staff member 's recommend glad . love internet safeti organ amazon . $ 2.50 month per kid unlimit age relat child safe internet access movi , book , game app set time shut minimum time read day . love love love .\", 'ood tablet , great price , easi use , pick simpl', 'eri happi kindl . would buy kid', \"power user ; 's way put . work research heck product buy . ipad mini 2 snuff io 10 sold bought ( eventu return ) 2016 fire hd 8. first let say 's great tablet price probabl 50-60 % tablet user surf web watch netflix . also help heavi amazon content user . , spoil retina display ipad . 720p display alright , see pixel . 189ppi pretti low today 's standard . big thing lack lamin display . 's glare citi thing . display nitpick asid , punch price point . n't play realli heavi game ( even play titan quest surprisingli well ! ) n't mind absolut beauti screen think run work fine . n't . bit bullet went 128gb ipad air 2 special bb super cheap right .\", 'bad product . amazon offer great product tablet miss featur even basic tablet . lack googl chrome compat made tablet right .', 'got fire hd 8 origin ebook sinc e-copi much cheaper . easi use , especi tech friendli . glad got .', 'good tablet . bought gf basic want netflix youtub . display good , great . issu kept drop wifi connect . could defect one tablet return got anoth one .', \"ought kindl daughter . 's 4th bought year , one child . great product\", 'reat valu cost - fast high end tablet , certainli faster expect . clear view easi navig', \"usband love 8 '' tablet . screen big enough view read\", 'first tablet pleas . amazon name good valu .', 'xcellent price point basic requir . featur need comfort read onlin novel articl .', 'good product price . mani thing done fire 8 dream .', 'asi access amazon account . easi set use .', 'item nice readout , well built far tell . overal size suitabl , price reason . get great servic best buy everi time shop .', 'oe everyth need morei use travel companion size great .', 'ts perfect niec & love . go get anoth one son .', 'perform much faster old one graphic much better .', 'ove kindl everyth want .', \"want tablet easi use could access email , internet stream shows/movi ! 's perfect !\", 'expect . happi . serv purpos', \"andi use size good . 's light weight 's import .\", 'got husband birthday love', 'kindl great . batteri last much longer old kindl .', \"begin ... good clariti , love size storag capac ! afford , love watch netflix . wish could gotten purpl , got color black , overal 'm happi purchas .\", \"n't think much first glad store , decid purchas . best decis ever made\", 'bought fire hd 8 & casei use mostli class..work good..would better bluetooth .', 'e sever kindl latest version . pack amazon market stuff fine use take space us . new version come 16gb allow expand memori sd card great . one problem kindl link account differ famili members/kid may end stuff . kid mainli use game app youtub video seem work great . sound good hd video nice . overal happi price good type tablet .', 'went best buy anoth reader end buy fire 8 ; good valu thing need reader .', \"ot tablet grandson 's happi use speak\", 'e bought earlier line anoth vendor never deliv . best buy great .', 'reat buy . bought 10 year old niec . love .', 'alway gone buy kindl like book th game avail . found unpredict unreli . color burn futon screen , screen start jump . result purchas 8 year . sure want go 9th time !', \"'s good , save use data usag comput . use keep date news .\", \"kindl fire hd larger screen ( 8 '' vs. 7 '' ) imag crisper vibrant color .\", 'ust lock card let kid go crazi ! !', 'awesom tablet perfectli watch tv littl nephew', 'kid enjoy read book play game fire tablet .', \"'m glad brought handi easi use . everyth good realli like .\", \"price almost impuls buy . want tablet upcom trip watch movi , read , etc price point made decis realli easi . use ipad , fire hd littl disappoint cost consider less . fit need felt sluggi sever instanc need reboot get certain app work correct . go understand n't ipad replac fit bill . let 's say , trip purchas ipad pro item like hand one children . amazon prime , get nice perk make realli nice item .\", 'asi follow direct allow set watch shoulder .', 'purchas tablet autist child . love ! !', \"'ve enjoy use fire hd8 tablet play game .\", 'eauti screen , vibrant color , fast best qualiti money .', 'use download read book . perfect size purpos . also light .', 'ought wife techi word . like - suggest buy protect screen pad case .', \"wife want ipad . bought cheaper good read play game . use io product 's compat . hardli ever use . next time 'll get want wast money .\", 'uch better screen resolut 7 inch fire .', \"bought tablet mom love . use 's easi use work nice amazon prime , etc . definit would recommend especi price .\", 'enjoy use tablet . use bike .', \"realli nice tablet.it run great 's thin easi hold .\", 'tablet quick good ipad ! use tablet specif one aspect life perform great ! pleasantli surpris perform !', '4 year old boy 6 year old girl 12 year old boy crack broken yet ye drop case crack yet pretti amaz drop hard wood floor still broke ! !', \"ow 've quit differ kindl year 've love . kindl fire hd 8 far favorit . glad husband bought best purchas ever .\", 'pgrade standard fire tablet . better screen , bit faster standard fire .', 'n opinion absolut best valu tablet . way go wrong price', 'new sound faster speed plu improv great', \"happi amazon tablet . purchas busi purpos , well recreat , work great . get sd card memori . also , would bought directli amazon , would 've 1 month wait . howev , abl order best buy onlin , pick day ! ! !\", \"ts perfect see tv seri n't tv around . good resolut qualiti .\", \"bought 8 '' replac old 7 '' . love bigger screen\", 'reez frequent ... way troubl shoot repair ...', 'got 1 tablet far love way work enlarg print chang light make easier read . thing must amazon account use .', 'kindl rock ! ton storag awesom price .', 'ought gift mother love', 'love fire ... .it work great navig fire user friendli . think 8 better buy money .', 'far best tablet ive ever own , easi quick set', 'tablet good especi consid price . also memori slot increas storag .', \"bought tablet holiday sale . great tablet . batteri life great new model . also play game everyth move smoothli sinc ram . durabl tablet great . thing wo n't break drop . thing n't like fire os . ca n't get everyth get googl store app avail .\", \"kindl 's past noth new love one screen big read book 's lot easier first kindl screen . mostli use read abl navig internet great want look someth book real quick want search review book purchas . love !\", 'urchas tablet christma sale . tablet good tablet beginn . easi use show movi video well .', 'reat tablet go . good size screen watch movi read book .', 'ight , portabl great featur . highli recommend .', \"price featur offer tablet , would n't purchas tablet . enjoy use overal find fairli easi navig . easi internet browser `` silk '' conveni access applic interest .\", 'ought friend like it.would recommend .', 'tablet everyth look : cheap tablet could download netflix show offlin view', \"nlike first kindl , tablet give kind inform , advertis offer first turn . could live without , overal , pleas new tablet . mani thing n't taken time explor , hope soon .\", 'great tablet price . would give 5 star includ sort instruct manual . otherwis , definit recommend .', 'great tablet great featur . love kindl .', \"n't beat price tablet ! great stream casual game .\", 'reat read netflix . fit nice purs . good price .', \"ood valu afford price . ca n't beat .\", 'ork great preti fast oper system dosent heat', 'e love much home . bought super tough case let two six year old use . love watch movi play differ app . realli good valu !', 'reat tablet ! brought wife love read ! great price , easi use ! great purchas !', 'eri fast , function . love e-read function . movi , music internet work great . love !', \"receiv gift husband . 's great read , game watch netflix .\", 'exchang highli unsatisfactori insignia unit fire . look 10 inch screen , went smaller size perform . complaint amazon product , ubiquit advertis .', 'daughter love tablet . make sure brought case thin . problem see everyth download', 'ave fire 7 want bigger screen , love new one .', 'erfect need go mini comput eread .', 'tablet great book , audibl book , music thing amazon . includ browser ( silk ) best . purchas expand memori ( 64gb sd card ) $ 30 cover $ 20 . biggest issu unit slow ( compar ipad ) tend freez everi often . 2.5x money , consid ipad instead .', 'reat tablet use read email . great price !', 'ice littl tablet . function easi use.fit need need use .', 'wesome.and repeat 50 time . . blah .', 'initi bought tablet school , use kindl rent book use stream xfiniti , netflix , amazon prime love sound pictur qualiti . would recommend anyon need good low cost tablet great batteri life .', 'e issu tablet . love ! ty', \"price 's bargain . perfect solut reader simpl brows . use night bed .\", \"first tablet experi 's awesom . love abl stream movi numer app fingertip .\", \"ought wife love ! third kindl period mani years'ca n't go wrong price .\", 'ove tablet . power last long . short charg time . hd screen realli clear . con app avail like googl play . satifi . 128gb card mine . plenti space download . camera flash best didnt buy tablet . high recommend hd tablet 8gb amazon fire . want go wrong .', 'tablet thing realli need . thought buy use featur expens computer/tablet . happi purchas .', \"ot wife 's birthday . older model want upgrad . seem happi use everi day\", 'eri user friendli ... long last batteri ... .veri clear display', \"ors graphic , wo n't keep wireless connect , overal satisfi\", 'asi transfer stuff old kindl new one . love price easi use . great buy .', 'first kindl . work great use . mostli read , email , amazon shop .', 'mazon fire hd8 one best deal 89 $ . strong , effici , low price amazon featur love . youtub video get googleplay android app made thing lot easier . , microsoft offic avail onlin free access edit document . els need ? amazon respect brand name low price brand used/old model high price brand . definit recommend .', 'held get tablet wish done sooner . amazon fire 8 great easi use', 'look tablet long time , littl expens would use . tablet let read , email , search best part buy book amazon carri heavi book travel', \"ot highest qualiti tablet , price almost ca n't beat , especi amazon prime member .\", 'like screen size easi read book night . batteri long life . outer rcase could stronger concern durabl .', 'ork great everyth want daughter', \"'s wonder . love . 's easi watch movi , play game read book .\", 'ove like one better ! ! ! sinc alreadi kindl knew want . need second one littl bigger . alway love servic help get bb knew would purchas ! ! found salesman knowledg help . thank much help servic', 'ew kindl replac old kindl lot book . surpris book transfer work well . seem work surf net . music sound okay .', 'reat littl devic almost everyth tablet . use comput travel well reader .', 'meet need plu . recommend buy good stylu pen time .', 'fit right hand . light weight . love', 'extrem happi purchas . like screen littl bigger much faster .', \"ood pictur , work well , great varieti app . keep mind get app amazon , googl play , n't alway price\", 'replac old kindl fire . yet explor featur , far , perform well . tablet good size weight , easi use .', 'tablet best one price purchas 3 tab kid broke ran super slow love would definit recommend anyon want save buck want qualiti', 'would recommend product good tablet use problem .', \"id love , $ 100 price great . n't worri get mishandl much . still ca n't get ipad though .\", \"went tablet base mani good custom review , experi good one . start phone everi day least hour amazon tech support one issu anoth . tech polit , knew product well . one point ask one tri save ram kept refer storag , told n't even know differ ram regular storag . internet browser basic ran slow time , even wifi devic ran great . day would pass 'd tri type email keyboard would stop work ... wtf ? ? ? come find 's `` known issu '' `` 're work '' . two week one thing anoth got fed return . want work , gave good run , qualiti stuff . like walmart tri build comput 're obvious comput manufactur , neither amazon . 'd look regular android tablet reput pc manufactur , exactli next . got asu tablet dollar , 's unbeliev . 1000 % better comparison amazon fire hd8 . save aggrav go asu compani specif comput busi full time . sorri amazon , time !\", \"ot fanci , slow . amazon prime , access great librari tv show movi free . goe free book rental . amazon app store great , lot app outdat still work . latest version would expect . amazon underground appstor offer free access game would normal pay . 's decent 's price good deal n't want anyth fanci .\", 'love kindl fire . kindl disappear . enjoy go librari book . get great select book everi day .', 'ight weight easi use . user-friendli . durabl .', 'price tablet beat . use ipad . noth cant tablet', 'recent upgrad tablet ; everyth want . highli recommend !', 'good buy tri day . fast experi good .', \"purchas tablet know exactli need well kindl could meet . despit `` wall garden '' philosophi tether mostli amazon product servic , abil ( right ) side-load googl play store make surprisingli versatil devic price point .\", 'great tablet price ! bought replac ipad mini . great eread gener brows .', \"replac kindl 7 hdx 32gb ram . older tablet charg port n't function anymor . geek squad warranti issu full credit old tablet son chose hd8 new tablet . screen resolut lower less memori , great tablet . son n't care resolut new kindl let pop sd card storag . pop 64gb sd card 's happi camper now.. ; )\", \"purchas gift extens time . 's great budget tablet , phenomen screen smooth interfac . handl app hd content well .\", 'birthday gift husband . realli like need', \"`` retir '' earlier version new soup model meet need , batteri last much longer ! !\", 'kindl want option . love bigger screen . find easi read . reflect light much .', 'tablet easi set , great resolut , perfect read book surf . price afford , . perfect anyon want fun casual way use technolog .', 'bought replac old kindl keypad , experiment internet . surpris much kindl chang , price old one bought ! alreadi shown coupl friend say think get one .', 'ealli enjoy new tablet . like travel famili use play game watch movi . right size .', 'ike kindl upgrad . color screen backlight allow easi night use', 'enjoy new kindl , thing would like chang way screen darken lighten read . sure stop . occur consist . also , would like stop ad seen everi time kindl turn start read . bothersom . otherwis , happi kindl .', 'purchas 8 inch devic . also purchas black cover.i play ask could get set told would 40 dollar . 40 dollar left store kindl someon els set free . disappoint get someon els set kindl .', 'previou kindl die want new replac fast . went amazon one back order month . expect pay went best buy found price even better avail local store could pick day !', \"got son play game soi could get ipad back . person think 's great littl tablet kid read . 's high power game play tablet anyth keep lot storag . work 's intend andi problem .\", 'asi use cant beat price pay', \"kindl larger old one book read much easier . featur n't use ca n't comment . love it.th drawback store cover fit kindl .\", 'e purchas replac now-broken ipad . though like smaller size ( conveni , easier carri , etc ) , internet sooooooo slowwwwww drove us crazi . sometim minut download site ( app open ! 1 ) . plan go back anoth ipad .', 'ablet great easi use thank 1st tablet', 'item easi use novic . child use issu', 'asi use . pretti user friendli . good valu price', 'problem tablet , kid love size great', \"nephew love play phone . anyon around small human know astound abil perpetu someth sticki hand . howev , rare case n't probabl drop devic lack said stickum . kindel come rescu everyth need entertain . best lack anxieti induc price tag moment kid demonstr murphi 's law action .\", 'present 14 year old grandson . pleas .', \"kindl fit `` '' . quick start . show get thing done .\", \"$ 100 8 '' tablet bargain . want like ; check email , facebook , twitter , watch youtub , read book , shop ebay amazon . 've pleas purchas .\", 'ought wife anniversari love', 'love read tablet work great need .', \"know beforehand power tablet . 's best bargain price point . screen okay read book , news , surf websit . want enjoy videos-thi choice.th processor slow amazon app store n't app like 'd expect googl appstore- even though os base android . tweak let instal googl playstore-search onlin steps.overal 'm satisfi purchas . hope help .\", 'bought grand daughter , knew use right away . purchas rubber case differ color protect .', 'averag tablet . bit slow good option peopl budget', 'eri nice read watch video . strong wi fi must . slipperi hold buy cover', 'ablet stop work own two week . came back hour .', 'devic great price ! use daughter see ad amazon , thought would perfect .', 'think amazon kindl tablet great purchas teenag daughter grandson , easi oper . kept entertain hour travel train vacat .', 'reat devic . work well use throughout day.keep inform great look thing stay contact .', 'love kindl , listen music , read email , pick book read . everyth load easili .', 'realli enjoy new kindl , still get use .', \"done like 5 time . n't send ahs8n . get aggrav .\", 'afford tablet work well , deal lot advertis .', 'ove abl run latest minecraft devic , abl 3-year-old ipad . seem appl handi cap devic . resolut may best , littl bugger work fine', \"love fire hd8 got kindl ( origin ) husband bought die verizon tablet n't work great . came agent store show one , learn curv get better take learn love .\", \"oe basic stuff need great price . use app , web brows video . pick fire 7 '' screen size , resolut cpu/gpu . batteri life pretti good . ad n't annoying.far cheaper compet name-brand budget tablet almost everyth need level probabl better support . fireo alway littl behind current android version 'd rather googl play amazon , still allow side-load stuff.recommend 're ok live amazon 's world and/or profici enough load app store packag ( know somebodi ) .\", 'item work expect , great product !', \"third fire 've purchas , amazon final made level memory-upgrad . made differ . bought fire tablet use 'kid tablet ' , work great ... run memori . 8gb practic noth day ( rememb 64kb huge upgrad atari ! ) abl toss memori card give kid much util .\", 'ave nook , much better app thru amazon', 'love size hd qualiti . look ! download app realli fast !', 'ever thought tablet price could good . total recommend !', \"sixth unit featur mani newer model n't .\", 'hank ... ... ... ... ... ... ... ... ... ... ... ... ... ... ... .', \"origin kindl fire ten year love . broke decid one look upgrad origin . let 's much , tutori ( like internet ) n't help .\", 'ightweight , nice display larg carri .', 'perfect size older person use minim .', 'ood tablet , satisfi . one point annoy ... silk browser make yahoo email list tap html read one ... awkward .', \"love app everyth els think 's perfect tablet beginn app need\", 'ove tablet . 16gb memori expans slot . bought 128gb micro sd card $ 56 . love featur', 'love amazon fire hd8 ... easi use perfect read book cruis social media . love alexa includ .', \"love kindl read manga comic . fact graphic wors phone detract littl expir , serv remind cheap bought yesterday 's model . real neg , appear less crisp phone . increas pictur size make book .\", 'thing last even month went dead . go tri take back', 'ought grandkid could use . alreadi one hous . husband use also & like . never use tablet enjoy .', 'fantast tablet price . great altern ipad .', 'origin kindl replac newer one . love ! !', '8 year old love much . enjoy read play game .', 'purchas tablet 9 year old son love . nice bright screen two speaker pretti good sound tablet . great game watch video .', 'purchas black friday impuls buy absolut love ! great price size tablet perfect . work great !', 'reat littl tablet someon alway go .', 'love tablet regret pic great recommend !', \"'s great item . 's easi connect wi-fi 's small enough fit purs .\", 'ice product price . need . easi use handi instead heavi laptop .', 'surpris open ! bright color ! !', 'ice look . great memori camera . much money everyth good .', 'ought niec christma . mostli use eread check email .', \"'m happi purchas say . complaint 3.5 mm jack right next volum button get way .\", 'ood tablet price . nice display good perform .', 'ove first kindl upgrad new one practic seamless .', \"think best product 've bought . alreadi eight 've purchas year famili seem get better less expens price .\", 'complet satisfi product . qualiti graphic great download breez . would definit recommend product .', 'bought present friend , use time . hd screen crystal clear , tablet compet well bigger name .', 'dad first time user anyth techi realli enjoy .', 'f enjoy read find better devic . excel price product qualiti', 'ought great granddaught gift . love easi use', 'bought christma gift . 11 year old son love .', 'friend mine market new tablet . research fire tab time like spec , met need . decid buy one b day , love !', 'ork great amazon stuff , like kindl , alexa , etc .', 'kid enjoy tablet . one inexpens ipad . avail app limit .', \"love kindl , like use end day busi trip . annoy thing amount advertis put version . $ 35 christma ca n't complain .\", 'alway use amazon tablet ... perfect game ! ! !', 'reat price . fantast gift ! would recommend gift age .', 'love read ! kindl fire like hundr book fingertip !', 'ought christma present wife . read time !', 'reat around tablet . color resolut nice . best price nice product .', 'ought son birthday gift way wear laptop . work great especi video gener onlin use .', \"impuls buy . get bigger , faster much better tablet wife decid 'd get . job fine , week return . n't find use wnough warrant keep . price awesom n't mind bit slower , much expens , tablet n't think go wrong .\", 'use time . much better bring laptop .', 'tablet definit recommend look light medium usag . tablet snappi quick slart lag instal multipl apps.amazon app store good essenti app avail , though instal use black market .', 'ice readi amazon app built . great buy .', 'ought tablet wife absolut love . also use school work great write note directli powerpoint', 'far good . replac broken kindl fire .', 'ought husband . realli enjoy .', 'reat son . monitor school work app download .', 'love kindl . 4th one . other wore . enjoy one . easier research thing , lot option etc', \"eri good valu tablet . everyth pretti well . bright n't great . batteri take charg last forev . decent buy . would recommend .\", 'ealli enjoy kindl . fit perfect purs screen good size .', \"bought christma husbandand 've month . still happi purchas . nice screen easi see view . buy anoth one soon .\", \"realli like feel eas use . 's great tablet price .\", 'great tablet . surpris effici easi use . bought 8 gift make bibl studi easier bunch friend .', \"e purchas wife 's mother . like play game read .\", \"eed new kindl . n't sure one choos . one great !\", 'product ok best get . sale item fine . batteri life seem littl short . bottom line ... ..so', 'far extrem satisfi purchas . great product great price !', \"use underway 's perfect size travel\", \"ove . great gift . awesom n't tablet never use one\", 'ork great amazon prime account brows internet play game . cheap tablet well .', \"ad week wo n't take charg , tri new charger still take charg . happi tablet unhappi chatg\", 'veral think kindl fire hd great product . complaint far .', 'extrem happi purchas . kindl fast screen clear .', 'reat tablet , fast & reliabl . downfal pay remov add .', 'sudden stope charg use time short time purchas . get replac best help', 'fire hd8 tablet easi fun use . take everywher . love easier see cell phone , old eye .', \"wife 's mom want tablet . great way get technolog love . ipad galaxi good start .\", 'purchas b/c old kindl fire final bit ... screen went dark . happi one . cost great . screen resolut great . user friendli . favorit featur sd card add gb .', 'ought daughter . work great store personnel excel job', 'reliabl brand good product price .', 'ur son live unit . favorit game .', 'bought kindl extra size . recent troubl see clearli figur size may easier . realli like abl chang color font background , seem help immens .', 'reat budget tablet great price . long batteri life high qualiti display .', \"trade receiv 7 '' christma happi . love size screen read book ( mani ) great size watch movi . wish capabl use internet away home , yet , great buy .\", \"veral like fire hd8 tablet , hard beat price point . sure expens tablet faster , brighter , better , money casual surf right . good companion prime membership , would n't half good without .\", \"great tablet . great peopl n't need lot apt . store lot . n't heat . light weight .\", 'go get samsung tablet everyth better', 'mazon tablet great . googl bloatwar . everyth amazon . one thing didnt like . ad lock screen way turn .', 'ought tablet replac 3 year old galaxi tab . tablet quick easi use , rel streamlin . screen nice stereo speaker , tini , sound better old tablet . modifi android system amazon run tablet good , bit restrict . good tab gener brows popular apps.pro : -price-performance-feel sturdy-easi navigate-silk browser work greatcon : -not app support , like telegram-ad lock screen feel unnecessari , hindrance-not customiz android tab', 'need replac old reader , found model good . better , greatli lower price . enjoy use month , pleas .', \"n't expect anyth less got kindl .\", 'ought daughter replac worn ipad . happier size . resolut nice . great buy price', \"tablet could much better app actual work decent . built amazon piec prime member great work flawlessli . 's enough overcom terribl app behavior countless freez . need take lesson two appl .\", 'use time far , like . lightweight pretti easi navig . perfect screen size . end purchas second one fiancé .', \"size tabl great 'm abl carri purs problem !\", 'ealli nice custom first servic . kindl reader familiar unit .', \"bought tablet mostli watch movi . download movi netflix watch indoor bike train gym . love abil expand memori microsd card , ipad . 's pretti fast featur need . read kindl book well . drawback app compat devic . ipad definit power compat mani app use , great tablet current interest .\", 'efor 8 inch kindl old 7 inch one , tablet great one much nicer . screen bigger , storag amd love color back . great tablet', \"'m enjoy longer batteri life , faster process abil expand memori . highli recommend !\", \"love . 's best thing could ever brought\", \"ought tablet son love . 's easi use easi set parent control .\", 'ice littl tablet money . ad deal .', 'use read book . read lot book . right size light situat .', 'bought comput love 89-year-old dad . check email chair rather go comput room !', 'ought black friday $ 60 , add trifold case , portabl tv dishes/cook/anyth', 'ot sale realli made worth get .', 'ablet work well , slim design perfect . highli recommend purchas tablet .', 'erfect purchas . take everywher easi use !', \"urchas coupl week ago , complaint far . web page load pretti quickli silk browser , batteri life excel . instal googl play store ( 's realli easi ! ) even app avail . ca n't beat hundr dollar ! ! !\", \"fter basic kindl 6 year , move . thrill product . avid reader . fire let 's lot thing . still find app , thing . know sound `` old fashion '' , would great user 's manual ! thank ask .\", 'ought replac kindl mother law . love perfect size .', '4 kindl well worth price .', 'wife love tablet.much easier use previou 2 tablet purchas .', \"'s great ! ! light weight ! charg quickli ! great featur !\", 'ill seem charg way 7th kindll .', 'icer old fire . better screen area view', \"husband use realli love . got kindl unlimit book 's also great play game surf web .\", 'ove new kindl fire - easi use - batteri life amaz ! !', 'erfect size read watch movi carri plane', 'upgrad 7 8 inch . differ . total satisfi would recommend everyon know', 'nd perform bigger name brand tablet . look good video somewhat customiz tablet great price pass .', 'f need basic tablet fire work . fall apart compar ipad mini usabl , function avail app standpoint .', \"ork great awhil would n't unlock . 'd enter pin , screen would go black . took geek squad ( luckili bought protect plan ! ) told n't fix replac . got anoth one one exact thing . end return one .\", 'eem lot better , open cover featur , miss , still get use differ tri get thing back old 1', 'ealli easi use , nice size , work great , afford price , extra card slot storag , bright screen , good speaker , easi download app ,', \"third kindl . sister bought first one said n't need probabl would n't use . wrong ! use everyday . die , bought anoth one third . ca n't live without kindl .\", \"bought kindl fire 8 husband use . neither one us abl figur use . everi time open advertis pop . tri button remov . get rotat puzzl . complic use navig around . return . ipad 's much easier .\", 'ought niec work perfect , easili navig menu featur ...', 'n inexpens tablet satisfi read view pleasur . fast good qualiti product . recommend !', \"ought 2 yr old . easi use . good parent control . long 're compar directli ipad , 's pretti good tablet $ $\", 'ike first , go slow sometim . overal good product', 'e bought tablet kid actual good .', 'reat littl tablet take , great kid', 'nli problem imposs read anyth kindlefir light room ; far wors imposs sunlight . sort temporari screen add-on use devic sunni bright locat .', 'like price right enjoy', 'bought gift daughter ! diabet lose vision . hope larg text easier see keep read .', 'order coupl famili member say work great everyth suppos . highli recommend .', 'nexu 9 painstakingli slow want someth lag everytim tri use browser freez whilst play game get job done well . batteri life also good . highli recommend casual brows game .', \"reat tablet , thing need better camera . howev , price , ca n't beat .\", 'ightweight , perform , pack featur . devic great read , music , movi go well web brows email .', 'asi use , like light screen read dark', 'etter expect price . work good would fulli recommend', 'satisfi product . perform extrem well area oper .', \"e bought one daughter help learn . mani possibl . 's way cheaper ipad basic thing .\", \"absolut love fire tablet . great size , lot space great reader . ca n't recommend product enough .\", \"like tablet , thin , light easi use . 's great kid adult well .\", \"ave pleas purchas fire hd8 's video qualiti great view espn3/netflix/youtub tutorials.th abil easili load read save textbook within amazon kindl app fantast fraction price ipad . : )\", 'first fire hd8 purchas die within 1 week purchas . go back exchang new one . good sign far .', 'bought friend sinc like mine much.it great way check email read kindl e-books.i keep sd card mine store book . drop purs read go .', 'usband first time user , realli well it.. low vision problem made read favorit book lot easier read .', \"'s actual good product decent price . lightn fast okay everyday use .\", 'ove custom servic knowledg help', 'eri good tablet price econom abil carri backpack', \"bought kindl husband 's birthday . kindl sinc 2013 use mostli read check email travel . husband particularli book reader , spend way mani hour alon , offic , read face book messag . , new kindl actual multi-task , live room , facebook , email , internet , least proxim , might even join convers ! think kindl much imporov 35 year marriag !\", 'easi use . cheap . found anyth like .', 'realli love product let read book surf net', 'ove tablet . bought touch screen remot harmoni hub , use much .', 'ake sure buy micro sd card least 64 gb memori . constantli delet old item .', \"good product one bought stop work three four type sentenc geek squad guy told brought back go set clear data . wrong answer . never done . idea north best buy n't offer fix replac kindl . third product go back either return exchang n't work properli . one manag tri excus store ask understand best buy n't actual manufactur product . best explain , point sale , keep sell defect product , north store big problem .\", 'ike speed 8 inch screen great . work well .', 'p come new technolog help everyon enjoy life greatli', 'perfect tablet purpos . easi use perfect size . larg small .', 'devic realli good piec electron . good reader also good 2 year old granddaught use .', 'son present colleg book . 5 textbook 1/4 price kindl bought amazon , third kindl . two still work great ,', \"bought replac 7 '' fire hd tablet broke . amazon chang oper system took figur . set son special need . tri make simpl possibl . littl bigger . sound n't good previou fire tablet . also seem slipperi . got rubber honeycomb type cover . seem help us grip better . , 's good tablet child . use parent control , get good cover .\", 'eciev realli like say step fire hd7 , guess count .', \"bf got birthday present son . 's like 7 '' although larger . tell differ regular hd game . 'm sure cost , would n't wast money .\", \"otic improv fire 7 inch . 're first-tim tablet owner fire 7 inch great devic . 've own tablet higher spec , notic improv fire 8 inch . fire 8 '' better display faster process .\", 'eri satisfi $ 39.95 sale price . way faster expect .', 'purchas small child use . quit happi , howev littl slow tast .', \"new kindl upgrad 7 year old kindl fire . expect video qualiti better along faster perform featur . still use old kindl still tick `` shini new toy '' fun .\", \"second fire tablet purchas . first return abl load youtub onto tablet . amazon 's take android unfriendli make work . new tablet , amazon heard concern 'm enjoy tablet . 's well built sub- $ 100 devic , wo n't stand lot abus .\", 'eliabl , price effici devic . easi use age .', 'play game , surf internet watch movi . check e-mail anyth regular computer.i strongli recommend .', \"terrif tablet great price . qualiti excel , price right , ton storag capac . oh , mention 's cheap ? ( cheap tablet , . )\", 'ad great experi best buy rep ! great job !', 'mall , portabl easi use . issu yet .', 'purchas product whim limit purpos studi exam middl seat long flight . expect hand 10-year old exam . surpris realli enjoy devic particular like amazon account integr : next flight delight find unit actual download video offlin view ! best part upgrad memori 64gb sd card avail content awesom ! truth first unit inexplic fail best buy replac unit right away expect great thing new devic ! son also use long trip ! ! !', 'bought hd fire 7 wife , like decid buy fire hd 8 love it.nic graphic easi use .', 'ble download music movi free ! ! ! ! ! ! ! ! ! ! ! !', 'use kindl mostli read . download book amazon , free purchas , heard year read . also read manga internet . use internet also includ look garden hint , anim care , dog breed characterist .', 'eed comput savvi . wound much help came simpl basic instruct .', 'gift son love . help homework could also play game !', 'ou top valu price point tablet . reason give 4 star instead 5 limit app select amazon app store . came googl play store , would give 5 heartbeat . overal great tablet price point . would highli recommend .', \"reat mom n't tech savvi . luv ! : - )\", 'eri smooth tablet lag also good batteri .', 'ove kindl continu buy famili', 'wesom , love xan watch xfiniti movi', 'tablet great price exactli need quick internet access download book !', 'purchas amazon fire hd 8 replac 2nd gener kindl fire . work great color sharp .', '8 bigger lighter weight old 7 batteri life longer . also storag camera . love !', 'lost tablet germani want replac fast . best buy , 7 8 inch kindl fire stock , read review , decid go 8 inch . boy glad , larger view area , great watch movi netflix airplan . 8 inch stereo sound , unlik 7 inch mono . overal realli happi tablet', \"ro - hd qualiti low price . work realli well amazon account access multipl amazon featur extrem eas . could n't happier . ipad extrem versatil came big price tablet . love !\", \"e bought one black one kid . 's durabl good price qualiti . person , still prefer ipad , budget , wo n't regret invest . 's simpl sometim struggl use . free time experi awesom littl one set paramet , huge bonu . first-tim tablet user , solid product .\", 'good product amazon . consid price , even better .', \"ood watch movi , read book play game n't expect much . everyth els challeng get laggi 'll shut program complet reboot .\", 'xcellent product . would definit purchas .', \"fter use tablet , found even prefer size ipad air . easi carri around long batteri life make prefer devic . screen perfect size older eye , screen 7 '' fire small cramp , seem lot less respons . highli recommend sweet tablet .\", 'birthday gift littl one love !', \"purchas two christma present children . research child friendli tablet robust control keep away undesir content . found 7 '' fire kid edit , look spec review , found unsur . mostli interest freetim applic , research found avail fire model also . came across new fire hd8 , power , better screen , far better batteri life afford price point . gave shot 'm glad did.i fire hd8 's lock freetim mode , activ done one approv , want , pick either unlock access netflix/amazon prime anyth els desir . current read goal set must achiev abl access video game , limit x amount time per day . freetim also bedtim featur disables/en use tablet design time , amazing.th hardwar except . screen resolut excel , 's respons , batteri life spectacular ! advertis 12 hour batteri life , depend screen bright , last almost long regularli . con think camera sub-par , 's purchas tablet , 's non-issu myself.som review read cite intern storag easili fill freetim content , instal 128gb sd card . also purchas rug children 's case amazon.thi probabl one best purchas made long time . sound silent children read day priceless ! ! !\", 'bought tablet sister replac kindl . love except fact would connect att internet . suspect att problem . internet could authent . sinc problem att seven year , sure problem ! si read instruct , good go !', 'reat tablet kid enjoy much would buy', 'veral , impress especi compar ipad mini 4. tablet make excel e-read , also boast specif rival ipad .', 'ork great us video call , kid watch video', 'wife love gift . made right purchas .', \"two amazon fire tablet one owned.. sister law want tablet sinc own one like one figur good buy.. love , abl schedul , read book watch news programs.. 's great alertan ipad ... great price power lot less cost..\", \"hese kindl fire tablet simpli ca n't beat term valu bang buck amazon prime account would crime fire tablet.good strong build qualiti , nice bright screen strong pictur good resolut . pretti respons , good batteri life handl abus let kid use well .\", 'e bought tablet son colleg love .', \"first tablet 's go well far . purchas read stream . hiccup regard stream video buffer long time sometim troubl respons command , overal , 'm happi . 's nice devic read onlin materi offlin .\", 'eplac hd fire 7 broke screed . pleas larg screen .', \"dislik kindl , kindl book sort categori . 's harder find new book 've download time ago search .\", 'urchas gift . receiv love said work nice .', 'urchas 80 year old mother law replac old crack screen one . everyth perfect easi use set . zero problem use onlin read book .', 'ove sent one famili mexico love', 'ought gift mother . absolut love . easi set use . price right .', 'love tablet . previou tablet 1st year fire . tablet great read , game , facebook email .', 'third kindl love . still first kindl use . wore kindl fire 5 + year use . happi everyth new one . disappoint .', 'got husband birthday . like light weight speaker power .', 'ot dad . easi use love . good step stone futur produc', 'ne best purchas invest could make technolog .', 'bought kindl book amaz overal featur . kindl featur tab .', 'bought primarili read , , tablet abl much ! listen music , download movi check email . love ! way better nook !', 'reat tablet price ! fast , work great , great sound volum , great pixel screen size', \"'m new tablet one pretti easi understand use.ther 's decent amount app start , good bad .\", 'would buy item . howev charg port', 'far . great thing , modt manag resolv though .', 'nice littl tablet great kid', \"ot huge fan product n't appl one good . n't problem .\", 'bought sister gift need use laptop basic internet surf watch movi travel . devic speed decent although compar perform laptop . want avoid carri bulki laptop travel want budget make devic laptop choos amazon fire tablet .', \"got tablet mother cousin . 's speedi surpris , fast high end tablet lag nice 720p display good build qualiti . would definit recommend look afford tablet\", 'ou pay best get best . thank best buy provid product', \"older kindl enjoy much . howev , much improv tablet faster process speed , upgrad storag longer batteri life . 'm realli happi !\", \"perfect tablet husband want . 8 '' size big small . carri without clumsi drop .\", \"love kindle.it user friendli 's much thought .\", 'reat littl tablet add googl play store . take research .', 'wesom tablet great valu money . son enjoy lot .', \"bought cheap altern old , slow , ipad 2 , could spring ipad pro . got black friday deal , worth . abl add miss app make even better thought could , amazon prime make inexpens handi media devic . carri bag time without worri 's valu . ca n't beat price .\", 'love read ! book , book , book book .', \"ongtim appl user , price vs ipad ca n't beat product !\", 'asi use . great pictur clariti . wish cellular version .', \"got cheap tablet . great watch video tablet sound good also . n't like amazon ecosystem app store . wish would sell android tablet app like phone .\", 'good tablet . like featur .', \"son need tablet take note colleg class . want someth small lightweight instead take laptop . 's found work perfectli need !\", 'first work fine three week stop . took back got replac . one last almost month . took back told deal amazon.found thru amazon webpag unit simpli froze reset . upset store associ knew noth product . research everyth .', 'urchas sister read book , internet game - perfect beginn novic . easi use . would five avail 4g', 'ove ad space . easi move around . excit use new featur .', 'ave christma gift , wife love . put sinc gotten .', \"love new amazon fire hd . 6 year old 've set password love read free book avail . differ shade back light cool . purchas new amazon fire hd , enhanc read experi .\", 'decid buy instead tradit kindl regret decis ! con ( evalu tablet ) amazon app store . mani app googleplay/appstor simpli avail .', 'e old fire upgrad fire hd . love everyth far .', 'fire tablet great tool read , surf web , play game even watch netflix , bigger screen , without kill cell phone charg .', \"reat valu ! tablet great everyth . 's power ipad price ca n't beat .\", 'like good reader also put app -- use check email , one note , etc . primarili reader .', \"ot tablet caus want start read graphic novel manga impress run smooth even use hulu netflix . flaw ad lock screen though take $ 15 's grade littl tablet !\", 'wife want got . total happi . love size read onlin book .', 'pleas purchas tablet great project product versatil', 'reat tablet . easi use . recommend other .', \"f 're look small effect tablet 's reason price , tablet one . 's easi understand direct , therefor make snap learn work tablet . come differ color easi read use . give tri . thank , best buy ! ! !\", 'eri competit price - unit work well like color size', \"hd8 hd7 amaz price . n't top power tablet , 're function tablet . right , feb 2017 , either one good replac nexu 7 .\", 'ought niec love . easi use tell !', \"realli like build qualiti lacklust perform minuscul batteri life n't make keeper .\", 'uch great tablet everyth , love !', 'avid amazon user shop tablet , bought differ model younger brother purchas one grandpar love !', \"purchas parent alway view facebook video cell phone , amazon tablet perfect ! 's user friendli amazon prime account great access movi music .\", \"'ve ipad mini 's tablet opinion ca n't compar . howev , said . bought tablet purpos watch netflix read book . opinion handl two task perfectli . screen n't clear crisp like tablet hey n't pay $ 300 either . like size seem fast . 'd say like lot . anoth note , 'm give review 4 star absolut annoy best buy ship . 3rd time 've order product ship best buy said would certain date up screw everi time . n't issu anywher els alway order best buy mail . anyway , tablet good price 'd recommend lower end teblet .\", \"bought one 9 year old son birthday - buy anoth one ten year old . tech issu juggl three tablet one account - care monitor , 's ok .\", 'onder littl buy ! tire bulki tablet . one stay charg lot longer !', 'ice tablet slightli bigger screen , great tv , movi read especi older eye . good size well , fit nice purs tote without heavi', 'like download movi watch offlin netflix', 'bought tablet mom birthday recent . love use time .', 'alway want tablet final decid amazon fire 8. awesom love it.i download game enjoy . great internet . definit worth price . get lot money . lot option .', 'okay , app strip version hd-fire . inexpeisv , get pay . o/ pretyy premit . hardwar fell nice . would say perfect devic older younger person .', \"k price littl slow n't mani app googl play .\", \"own sever kindl . n't know , tend die rather quickli . thank good best buy 's extra protect . last two quit replac quickli effortlessli . excel custom servic well !\", 'ove use kindl look real estat sale , play mind game , take pictur . love bigger screen great resolut . sound also far superior older model lindl .', 'ife love . said open much faster like auto updat app .', 'uper easi set use : ) got one daughter got one self ! ! ! ! ! !', 'tablet great , advertis annoy', 'tablet absolut everyth want ! watch tv show movi , check mail , facebook , googl ... ... .pay bill . process fast beauti screen . said : everyth want tablet less $ 100 !', 'nd happi ever sinc . tech saavi , specif devic user-friendli tutori help get start .', \"ot replac samsung tab 7 '' . samsung tab lag lot n't seem much problem fire tab , downsid batteri die fast .\", 'samsung tablet 3 year , say love amazon kindl 10x better . pictur qualiti amaz , light weight , easi navig .', 'reat tablet , great screen , great price ! user friendli , especi tech savvi person .', 'good ipod ! would recommend', 'eed new tablet read book , movi surf web . meet need !', 'reat upgrad kindl fire . reason price product .', 'would recommend friend shop amazon mani preload game . mani app', 'reat product great price ! love would recommend anyon look tablet good price', 'impl easi use ! ! wife take everywher !', 'asi use ! plug search favorit movi tv show .', 'love new fire hd ! one first gener kindl fire , love , love one even ! ! !', \"n't depth research particular tablet . price speed good want . con abl clear home screen app reloc see person home screen pictur .\", 'gave gift friend senior citizen amazon paperwhit . thought would love upgrad . love ! !', 'reat devic function love recommend', 'ought father-in-law christma love . easi use alreadi bought 5 book !', \"n't say enough good . 10 year old love .\", 'njoy kindl , fun game , access internet , read book , etc .', \"tablet work great price ca n't beat !\", \"e get sale 50 $ incred valu tablet perfect anyon want screen without pay premium price . build qualiti fine screen n't best definit usabl .\", \"'s regular tablet use use facebook\", 'screen clear tablet faster expect . great color also !', 'ot power tablet flawless util amazon program', 'ought elderli mother want abil read and/or listen book . slow start get go ( tech savvi ) realli enjoy versatil tablet . although cellular data abil , use , give flexibl connect wireless network make weekli casino visit .', \"price ca n't beat . said return mine week . could n't get low resolut screen . work well movi web , need also show photo other .\", 'gift friend . far love it..', 'ook magazin easi access read ! ! !', \"ought 8 year old place nabi n't work packag . great basic tablet .\", \"review differ tablet , tablet kept come back best option item look . great tablet , thing n't realli like . n't realiz amazon 's browser silk . everyth even bank info goe amazon . sure like . also , item n't automat close leav page frequent hit button bottom close multipl item . might comput savoy , though know navig way around . sometim touch featur seem freez wo n't recogn attempt 'touch ' . lastli , on/off button right hold tablet side , often 'accid ' shut . annoy ! overal , happi purchas price like . want point item .\", 'erv need economi tablet would reccomend .', 'ood product best price avail market place', 'ablet great tool use world wide web check email .', 'ork great , wife love . alway happi kindl', 'quirk disconcert bur overal great product .', 'nli quirk come kindl . better qualiti sound display .', 'reat tablet . pictur super sharp easi read .', 'pick tablet 5 year old grandchild way learn use tablet work fine .', \"e previous bought 7 inch , 8 gb kindl son use lot . eventu though drop longer work . past christma purchas amazon fire hd8 , 16 gb.thi model improv previou one . twice intern storag , son n't alway come delet game ran storag . anoth great featur extern sd card slot . bought 32 gb card 's delet anything.th quad-cor processor big improv previou gen model . app game load quickli lag run . also seem improv batteri life n't charg time plug power cord.thi great purchas child !\", 'xcellent product.relable.maximum speed.fast download', \"ove tablet . 's big enough see . work prime watch movi stream music .\", 'purchas kindl year ago love flexibl give . brows internet without move desk get person comput . love fact continu read book travel . doctor offic visit seem roll calmli ignor offic chatter tv select rather watch . encourag other make purchas sever done . second purchas . love !', \"purchas mother go wonder amazon fire . 's perfect size easi use even bank love . would definit recommend amazon fire thank\", 'second kindl . love use read , web search , etc . download favorit knit pattern , road someth work with.i love love love kindl . bigger screen , slimmer lighter .', 'reat tablet wife want , love wifi , much better old one .', 'gift love tablet ! great price work awesom !', \"amazon fire tablet 2016 quit good . provid suffici content & abil basic one requir tablet . 8 inch screen bright provid variou set . tablet 's light weight make portabl .\", 'eed buy tablet mother christma gift . function great use onlin need', 'fire hd 8 perfect size eread . big enough see text small enough hold comfort .', \"bought amazon fire hd8 christma present wife . second tablet given past 5 year . love ! goe wherev goe . fire portabl easi use . say goe : `` happi wife mean happi life '' . would n't hesit recommend fire anyon !\", 'ave daughter christma . love . use everi day . good buy !', 'use mainli read e-book brows . howev , wish app avail . also , unlock tablet , ad shown lockscreen . tab lock , stop stream ad . pay $ 15 disabl ad perman . recommend basic use . want use game app , would recommend stronger tablet like ipad samsung galaxi .', \"second kindl fire , reason upgrad . 're great littl tablet . versatil fast load time . definit recommend .\", 'ood qualiti android tablet . also make nice gift .', 'purchas 12 year old great price point . like parent control featur multipl profil . allow control access plu .', 'hank perfect littl kid love tablet good qualiti fast enough', \"n't say enough kindl fire . liter fiiiiiiyah ... fast , easi use , all-around perfect tablet . recommend keep eye special price holiday save cheddar , otherwis 'd say pick littl black rectangl portabl interwebz awesom first chanc get .\", 'best product money . east use , great color , great featur . easi set batteri life great .', 'gift famili member realli enjoy option get book', \"bought one 40 $ black friday sale , gift cousin . flatter perform , even n't expect good ! work flawlessli usual game app , go miss youtub , amazon 's app store youtub . meet requir daili use .\", 'est b help learn read follow direct .best buy product provid great custom servic . grandson enjoy product use .', 'tablet exce review . easi use screen great .', \"husband purchas new amazon kindl fire hd 8 tablet 16 yr old son 12 yr old daughter christma . older version 7 alreadi knew buy durabl tablet . new one awesom color easi distinguish 's purchas black friday got $ 30 , amaz discount made love even . shop around mani place prior . light weight screen plenti big enough watch movi , play game , homework video call friend famili town . seem plenti space nice know add memori need to.th tablet hold everyday life kid accident drop kick 3 yr old sister lol . would definit recommend product anyon market new tablet children . buy futur ever quick work .\", 'ought littl grandson like game , play ever wifi .', 'tablet sale good price , enough stock christma season > grand children thrill .', 'ood tablet great price . use read , netflix email .', 'ood beginn play game , take pictur record video old time', 'kindl fire 6 last xmas2015 work raffl . gladli got kindl fire 8 bigger screen better batteri life . love .', 'ne best inexpens tablet market . great casual user', \"ove tablet , 5 star opinion , definit worth . easi fun use . also , perfect size even man 's hand .\", 'ought gift love ! great price .', \"went buy 88 year old dad amazon fire book reader ... .the custom servic begin great ! . associ immedi approach , show sever model , explain . pick one . told `` free ship '' util . dad receiv within coupl day , birthday , abl go local best buy , assoc show/explain use . sooo excit pleas item servic ... .and i. also , price right tooo !\", 'great read product . love light adjust low light area . adjust font size read comfort thing like download app watch movi !', 'realli love 7in . love 8.5 . whole lot. ! ! ! ! ! ! ! ! ! ! ! ! ! thank guy ! ! !', \"bought 8 '' amazon fire hd wife christma present . old 7 '' amazon fire 3-4 year . happi 8 '' amazon fire hd . ca n't beat price tablet .\", 'son love , watch video , read book play game .', 'xcellent inexpens . itun store googl play store app choos , still use tablet . expand sd micro memori definit + .', 'ave time realli use , hope download book game .', 'great , easi use tablet price .', \"'s 16 gb mini-comput camera perfect trip .\", 'njoy read via devic ; lot option also plu ; littl heavi hold reclin', \"eed present mom , first n't use much caus set 's great love .\", 'ought 83-year old mother . love !', 'e bought two day went sale christma best buy excel price match', 'sesom ! ! ! ! ! ! ! ! ! ! ! ! ! ! ! ! ! ! ! ! ! ! ! ! ! ! ! ! ! ! ! ! ! ! ! ! ! ! ! ! ! ! ! ! ! ! ! ! ! ! ! ! ! ! ! ! ! ! ! ! ! ! ! ! ! ! ! ! ! ! ! ! ! ! ! ! ! ! ! ! ! ! ! ! ! ! ! ! ! ! ! ! ! ! ! ! ! ! ! ! ! ! ! ! !', 'erform design got sale 79 dollar', 'great son 8 year old , help homework', \"e ipad , samsug tablet love fire8 's wave better .\", \"tablet afford 's pretti decent .\", 'ought dad , 87. easi use setup . love use 3/4 hour day', 'first go get ipad decid get instead way cheaper ipad good , love it..', \"ould n't recommend kid . price featur awesom along parent control .\", 'function great although wish came color .', \"n't actual use bought gift . grandson alreadi one return pair 3-d goggl .\", 'se reader music , game watch movi good round tablet', 'ust thought purchas capabl download read book , magazin , etc . , low price surpris total capabl avail .', 'got fire hd kid could read book , play game watch show . without spend arm leg tablet . think good tabl kid / young teen want tablet break bank .', 'e bought one wife mother-in-law love . easi use .', 'kid love . batteri life longer other .', \"gift mother 99 year . use love puzzl , arthriti fail eyesight could n't . puzzl app good see use finger slide piec . keep famili facebook\", \"eri decent tablet . skeptic first 's perform surpris . batteri last decent amoun\"]\n"
          ]
        }
      ]
    },
    {
      "cell_type": "markdown",
      "source": [
        "# Create The Victor Representation"
      ],
      "metadata": {
        "id": "-IjKNjR0hCZs"
      }
    },
    {
      "cell_type": "code",
      "source": [
        "from sklearn.feature_extraction.text import CountVectorizer\n",
        "cv = CountVectorizer()\n",
        "x = cv.fit_transform(reviews)"
      ],
      "metadata": {
        "id": "r2P-XwIehFXz"
      },
      "execution_count": 28,
      "outputs": []
    },
    {
      "cell_type": "code",
      "source": [
        "y = data.iloc[:,14:15]\n",
        "y.head()"
      ],
      "metadata": {
        "colab": {
          "base_uri": "https://localhost:8080/",
          "height": 206
        },
        "id": "Abm1s_G_hMiY",
        "outputId": "244ac9c4-35f8-4cf8-a5f7-8a16d4e0fc26"
      },
      "execution_count": 29,
      "outputs": [
        {
          "output_type": "execute_result",
          "data": {
            "text/plain": [
              "   reviews.rating\n",
              "0               5\n",
              "1               5\n",
              "2               5\n",
              "3               4\n",
              "4               5"
            ],
            "text/html": [
              "\n",
              "  <div id=\"df-c61ad15a-315c-4d00-960a-6c4dcbdccc7e\">\n",
              "    <div class=\"colab-df-container\">\n",
              "      <div>\n",
              "<style scoped>\n",
              "    .dataframe tbody tr th:only-of-type {\n",
              "        vertical-align: middle;\n",
              "    }\n",
              "\n",
              "    .dataframe tbody tr th {\n",
              "        vertical-align: top;\n",
              "    }\n",
              "\n",
              "    .dataframe thead th {\n",
              "        text-align: right;\n",
              "    }\n",
              "</style>\n",
              "<table border=\"1\" class=\"dataframe\">\n",
              "  <thead>\n",
              "    <tr style=\"text-align: right;\">\n",
              "      <th></th>\n",
              "      <th>reviews.rating</th>\n",
              "    </tr>\n",
              "  </thead>\n",
              "  <tbody>\n",
              "    <tr>\n",
              "      <th>0</th>\n",
              "      <td>5</td>\n",
              "    </tr>\n",
              "    <tr>\n",
              "      <th>1</th>\n",
              "      <td>5</td>\n",
              "    </tr>\n",
              "    <tr>\n",
              "      <th>2</th>\n",
              "      <td>5</td>\n",
              "    </tr>\n",
              "    <tr>\n",
              "      <th>3</th>\n",
              "      <td>4</td>\n",
              "    </tr>\n",
              "    <tr>\n",
              "      <th>4</th>\n",
              "      <td>5</td>\n",
              "    </tr>\n",
              "  </tbody>\n",
              "</table>\n",
              "</div>\n",
              "      <button class=\"colab-df-convert\" onclick=\"convertToInteractive('df-c61ad15a-315c-4d00-960a-6c4dcbdccc7e')\"\n",
              "              title=\"Convert this dataframe to an interactive table.\"\n",
              "              style=\"display:none;\">\n",
              "        \n",
              "  <svg xmlns=\"http://www.w3.org/2000/svg\" height=\"24px\"viewBox=\"0 0 24 24\"\n",
              "       width=\"24px\">\n",
              "    <path d=\"M0 0h24v24H0V0z\" fill=\"none\"/>\n",
              "    <path d=\"M18.56 5.44l.94 2.06.94-2.06 2.06-.94-2.06-.94-.94-2.06-.94 2.06-2.06.94zm-11 1L8.5 8.5l.94-2.06 2.06-.94-2.06-.94L8.5 2.5l-.94 2.06-2.06.94zm10 10l.94 2.06.94-2.06 2.06-.94-2.06-.94-.94-2.06-.94 2.06-2.06.94z\"/><path d=\"M17.41 7.96l-1.37-1.37c-.4-.4-.92-.59-1.43-.59-.52 0-1.04.2-1.43.59L10.3 9.45l-7.72 7.72c-.78.78-.78 2.05 0 2.83L4 21.41c.39.39.9.59 1.41.59.51 0 1.02-.2 1.41-.59l7.78-7.78 2.81-2.81c.8-.78.8-2.07 0-2.86zM5.41 20L4 18.59l7.72-7.72 1.47 1.35L5.41 20z\"/>\n",
              "  </svg>\n",
              "      </button>\n",
              "      \n",
              "  <style>\n",
              "    .colab-df-container {\n",
              "      display:flex;\n",
              "      flex-wrap:wrap;\n",
              "      gap: 12px;\n",
              "    }\n",
              "\n",
              "    .colab-df-convert {\n",
              "      background-color: #E8F0FE;\n",
              "      border: none;\n",
              "      border-radius: 50%;\n",
              "      cursor: pointer;\n",
              "      display: none;\n",
              "      fill: #1967D2;\n",
              "      height: 32px;\n",
              "      padding: 0 0 0 0;\n",
              "      width: 32px;\n",
              "    }\n",
              "\n",
              "    .colab-df-convert:hover {\n",
              "      background-color: #E2EBFA;\n",
              "      box-shadow: 0px 1px 2px rgba(60, 64, 67, 0.3), 0px 1px 3px 1px rgba(60, 64, 67, 0.15);\n",
              "      fill: #174EA6;\n",
              "    }\n",
              "\n",
              "    [theme=dark] .colab-df-convert {\n",
              "      background-color: #3B4455;\n",
              "      fill: #D2E3FC;\n",
              "    }\n",
              "\n",
              "    [theme=dark] .colab-df-convert:hover {\n",
              "      background-color: #434B5C;\n",
              "      box-shadow: 0px 1px 3px 1px rgba(0, 0, 0, 0.15);\n",
              "      filter: drop-shadow(0px 1px 2px rgba(0, 0, 0, 0.3));\n",
              "      fill: #FFFFFF;\n",
              "    }\n",
              "  </style>\n",
              "\n",
              "      <script>\n",
              "        const buttonEl =\n",
              "          document.querySelector('#df-c61ad15a-315c-4d00-960a-6c4dcbdccc7e button.colab-df-convert');\n",
              "        buttonEl.style.display =\n",
              "          google.colab.kernel.accessAllowed ? 'block' : 'none';\n",
              "\n",
              "        async function convertToInteractive(key) {\n",
              "          const element = document.querySelector('#df-c61ad15a-315c-4d00-960a-6c4dcbdccc7e');\n",
              "          const dataTable =\n",
              "            await google.colab.kernel.invokeFunction('convertToInteractive',\n",
              "                                                     [key], {});\n",
              "          if (!dataTable) return;\n",
              "\n",
              "          const docLinkHtml = 'Like what you see? Visit the ' +\n",
              "            '<a target=\"_blank\" href=https://colab.research.google.com/notebooks/data_table.ipynb>data table notebook</a>'\n",
              "            + ' to learn more about interactive tables.';\n",
              "          element.innerHTML = '';\n",
              "          dataTable['output_type'] = 'display_data';\n",
              "          await google.colab.output.renderOutput(dataTable, element);\n",
              "          const docLink = document.createElement('div');\n",
              "          docLink.innerHTML = docLinkHtml;\n",
              "          element.appendChild(docLink);\n",
              "        }\n",
              "      </script>\n",
              "    </div>\n",
              "  </div>\n",
              "  "
            ]
          },
          "metadata": {},
          "execution_count": 29
        }
      ]
    },
    {
      "cell_type": "markdown",
      "source": [
        "# spliting data"
      ],
      "metadata": {
        "id": "6afpaZD-hVEu"
      }
    },
    {
      "cell_type": "code",
      "source": [
        "from sklearn.model_selection import train_test_split\n",
        "x_train,x_test,y_train,y_test = train_test_split (x,y,test_size=0.2)"
      ],
      "metadata": {
        "id": "AEgQmXHqhYuB"
      },
      "execution_count": 31,
      "outputs": []
    },
    {
      "cell_type": "markdown",
      "source": [
        "# choosing a classifier"
      ],
      "metadata": {
        "id": "LI0bPNPjhuRY"
      }
    },
    {
      "cell_type": "code",
      "source": [
        "from xgboost import XGBClassifier\n"
      ],
      "metadata": {
        "id": "iT2p1cfAh0JY"
      },
      "execution_count": 32,
      "outputs": []
    },
    {
      "cell_type": "code",
      "source": [
        "model = XGBClassifier()\n",
        "model.fit(x_train,y_train)"
      ],
      "metadata": {
        "colab": {
          "base_uri": "https://localhost:8080/"
        },
        "id": "kduNa5M9h1_n",
        "outputId": "22fcedbc-c528-4e15-f6dd-10fe2bc4eb88"
      },
      "execution_count": 33,
      "outputs": [
        {
          "output_type": "stream",
          "name": "stderr",
          "text": [
            "/usr/local/lib/python3.7/dist-packages/sklearn/preprocessing/_label.py:98: DataConversionWarning: A column-vector y was passed when a 1d array was expected. Please change the shape of y to (n_samples, ), for example using ravel().\n",
            "  y = column_or_1d(y, warn=True)\n",
            "/usr/local/lib/python3.7/dist-packages/sklearn/preprocessing/_label.py:133: DataConversionWarning: A column-vector y was passed when a 1d array was expected. Please change the shape of y to (n_samples, ), for example using ravel().\n",
            "  y = column_or_1d(y, warn=True)\n"
          ]
        },
        {
          "output_type": "execute_result",
          "data": {
            "text/plain": [
              "XGBClassifier(objective='multi:softprob')"
            ]
          },
          "metadata": {},
          "execution_count": 33
        }
      ]
    },
    {
      "cell_type": "markdown",
      "source": [
        "# accuracy"
      ],
      "metadata": {
        "id": "HFrlvPj2h5sT"
      }
    },
    {
      "cell_type": "code",
      "source": [
        "score = model.score(x_test,y_test)\n",
        "print(score)"
      ],
      "metadata": {
        "colab": {
          "base_uri": "https://localhost:8080/"
        },
        "id": "AlqTh1bUh86j",
        "outputId": "271bd4cc-965d-4f49-82c4-10512b3f4a13"
      },
      "execution_count": 34,
      "outputs": [
        {
          "output_type": "stream",
          "name": "stdout",
          "text": [
            "0.6810344827586207\n"
          ]
        }
      ]
    },
    {
      "cell_type": "markdown",
      "source": [
        "# deployment"
      ],
      "metadata": {
        "id": "PS6XtAyqh_YW"
      }
    },
    {
      "cell_type": "code",
      "source": [
        "your_review = input('enter your review: ')\n",
        "l1 = []"
      ],
      "metadata": {
        "colab": {
          "base_uri": "https://localhost:8080/"
        },
        "id": "fgKzfbSCiCc8",
        "outputId": "76f60731-ab29-4f5f-9659-1e08d9cc94e4"
      },
      "execution_count": 35,
      "outputs": [
        {
          "name": "stdout",
          "output_type": "stream",
          "text": [
            "enter your review: its great\n"
          ]
        }
      ]
    },
    {
      "cell_type": "code",
      "source": [
        "cleaned2 = re.sub('^[a-zA-Z]','',your_review)\n",
        "cleaned2 = cleaned2.lower()\n",
        "cleaned2 = word_tokenize(cleaned2)\n",
        "cleaned2 = [ps.stem(word) for word in cleaned2 if word not in filters]\n",
        "cleaned2 = \" \".join(cleaned2)\n",
        "l1.append(cleaned2)\n",
        "print(l1)"
      ],
      "metadata": {
        "colab": {
          "base_uri": "https://localhost:8080/"
        },
        "id": "jt8lnv9eiGTk",
        "outputId": "d3fb9ad5-a651-4882-813c-5099dd5383e6"
      },
      "execution_count": 36,
      "outputs": [
        {
          "output_type": "stream",
          "name": "stdout",
          "text": [
            "['ts great']\n"
          ]
        }
      ]
    },
    {
      "cell_type": "code",
      "source": [
        "x_new = cv.transform(l1)"
      ],
      "metadata": {
        "id": "cGlK4KwuiIxJ"
      },
      "execution_count": 37,
      "outputs": []
    },
    {
      "cell_type": "code",
      "source": [
        "sent = model.predict(x_new)\n",
        "print(sent)"
      ],
      "metadata": {
        "colab": {
          "base_uri": "https://localhost:8080/"
        },
        "id": "HYgD3XbwiLI_",
        "outputId": "a8666335-04fc-4194-f2d9-9af2d61f05d9"
      },
      "execution_count": 38,
      "outputs": [
        {
          "output_type": "stream",
          "name": "stdout",
          "text": [
            "[5]\n"
          ]
        }
      ]
    },
    {
      "cell_type": "code",
      "source": [
        "if 0 in sent:\n",
        "  print('bad review')\n",
        "else:\n",
        "  print('nice review')"
      ],
      "metadata": {
        "colab": {
          "base_uri": "https://localhost:8080/"
        },
        "id": "xz_uIwGTiOzR",
        "outputId": "eb3c17d6-2aca-4353-fdf9-520934637f44"
      },
      "execution_count": 39,
      "outputs": [
        {
          "output_type": "stream",
          "name": "stdout",
          "text": [
            "nice review\n"
          ]
        }
      ]
    }
  ]
}